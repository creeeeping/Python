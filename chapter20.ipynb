{
  "nbformat": 4,
  "nbformat_minor": 0,
  "metadata": {
    "colab": {
      "provenance": [],
      "mount_file_id": "1NLUw_RYrCq3es8ypYFdtarmVfoUJ20sf",
      "authorship_tag": "ABX9TyOyhtk6f5XTcxhytrxfwfLq",
      "include_colab_link": true
    },
    "kernelspec": {
      "name": "python3",
      "display_name": "Python 3"
    },
    "language_info": {
      "name": "python"
    }
  },
  "cells": [
    {
      "cell_type": "markdown",
      "metadata": {
        "id": "view-in-github",
        "colab_type": "text"
      },
      "source": [
        "<a href=\"https://colab.research.google.com/github/creeeeping/Python/blob/main/chapter20.ipynb\" target=\"_parent\"><img src=\"https://colab.research.google.com/assets/colab-badge.svg\" alt=\"Open In Colab\"/></a>"
      ]
    },
    {
      "cell_type": "markdown",
      "source": [
        "##파일 입출력\n",
        "\n",
        "# 웹-> 크롤링 -> 데이터베이스 -> 1차 클렌징 -> 출력 후 담당자에게 전달합니다. -> 2차 클렌징 -> 유용한 데이터셋 -> csv 데이터베이스 입력 -> 인공지능 학습"
      ],
      "metadata": {
        "id": "AlT1PoIsncwe"
      }
    },
    {
      "cell_type": "code",
      "source": [
        "# 구글 마운트 연결한뒤 필요한 폴더 경로복사\n",
        "cd //content/drive/MyDrive/Colab Notebooks"
      ],
      "metadata": {
        "colab": {
          "base_uri": "https://localhost:8080/"
        },
        "id": "o4chCOISpOs9",
        "outputId": "e4303e23-87a5-4bee-aed7-139e5b72769a"
      },
      "execution_count": null,
      "outputs": [
        {
          "output_type": "stream",
          "name": "stdout",
          "text": [
            "/content/drive/MyDrive/Colab Notebooks\n"
          ]
        }
      ]
    },
    {
      "cell_type": "markdown",
      "source": [
        "r - 읽기\n",
        "w - 쓰기 (주의: 덮어쓰기)\n",
        "a - 추가"
      ],
      "metadata": {
        "id": "PdcNySzZpWI7"
      }
    },
    {
      "cell_type": "code",
      "source": [
        "f = open('test.txt','w')\n",
        "f.write('수강생 여러분')\n",
        "f.close()\n",
        "# 파일 생성완료"
      ],
      "metadata": {
        "id": "8FiZQa5Qpd4k"
      },
      "execution_count": null,
      "outputs": []
    },
    {
      "cell_type": "code",
      "source": [
        "f = open('test.txt','w')\n",
        "f.write('개발자 여러분')\n",
        "f.close()"
      ],
      "metadata": {
        "id": "ik3O16a0p4Uy"
      },
      "execution_count": null,
      "outputs": []
    },
    {
      "cell_type": "code",
      "source": [
        "f = open('test.txt','w')\n",
        "f.write('''수강생 여러분\n",
        "수강생 여러분\n",
        "수강생 여러분\n",
        "수강생 여러분\n",
        "수강생 여러분\n",
        "수강생 여러분\n",
        "수강생 여러분\n",
        "''')\n",
        "f.close()\n",
        "# 덮어쓰기 완료"
      ],
      "metadata": {
        "id": "yquGAbuWp-9E"
      },
      "execution_count": null,
      "outputs": []
    },
    {
      "cell_type": "code",
      "source": [
        "f = open('test.txt','w')\n",
        "메세지 =''\n",
        "\n",
        "for i in range(10):\n",
        "    메세지 += \"개발자 여러분\\n\"\n",
        "f.write(메세지)\n",
        "f.close()\n",
        "# for 문으로 덮어쓰기 완료"
      ],
      "metadata": {
        "id": "PS3G2SB9qMLC"
      },
      "execution_count": null,
      "outputs": []
    },
    {
      "cell_type": "code",
      "source": [
        "f = open('test.txt', 'r')\n",
        "s = f.read()\n",
        "print(s)\n",
        "f.close()\n",
        "# 작업환경으로 불러오기 완료"
      ],
      "metadata": {
        "colab": {
          "base_uri": "https://localhost:8080/"
        },
        "id": "Nab6SWODrXsA",
        "outputId": "76ecc2a7-4562-4fac-b570-ce8fbe20e618"
      },
      "execution_count": null,
      "outputs": [
        {
          "output_type": "stream",
          "name": "stdout",
          "text": [
            "개발자 여러분\n",
            "개발자 여러분\n",
            "개발자 여러분\n",
            "개발자 여러분\n",
            "개발자 여러분\n",
            "개발자 여러분\n",
            "개발자 여러분\n",
            "개발자 여러분\n",
            "개발자 여러분\n",
            "개발자 여러분\n",
            "\n"
          ]
        }
      ]
    },
    {
      "cell_type": "code",
      "source": [
        "f = open('test.txt', 'r')\n",
        "iine = f.readline()\n",
        "print(iine)\n",
        "print(type(iine))\n",
        "f.close()\n",
        "# 한줄만 불러오기 완료"
      ],
      "metadata": {
        "colab": {
          "base_uri": "https://localhost:8080/"
        },
        "id": "ahJM067Or2DH",
        "outputId": "fc3c2026-542a-4446-9ed3-cf7e1f47058f"
      },
      "execution_count": null,
      "outputs": [
        {
          "output_type": "stream",
          "name": "stdout",
          "text": [
            "개발자 여러분\n",
            "\n",
            "<class 'str'>\n"
          ]
        }
      ]
    },
    {
      "cell_type": "code",
      "source": [
        "f = open('test.txt', 'r')\n",
        "line = f.readline()\n",
        "while line:\n",
        "    line = f.readline()\n",
        "    print(line)\n",
        "f.close()\n",
        "# 다른 방식으로 여러줄 불러오기 완료"
      ],
      "metadata": {
        "colab": {
          "base_uri": "https://localhost:8080/"
        },
        "id": "6kCLFQcIsM3V",
        "outputId": "6d596b77-911b-4798-b9dd-b3ad56809db3"
      },
      "execution_count": null,
      "outputs": [
        {
          "output_type": "stream",
          "name": "stdout",
          "text": [
            "개발자 여러분\n",
            "\n",
            "개발자 여러분\n",
            "\n",
            "개발자 여러분\n",
            "\n",
            "개발자 여러분\n",
            "\n",
            "개발자 여러분\n",
            "\n",
            "개발자 여러분\n",
            "\n",
            "개발자 여러분\n",
            "\n",
            "개발자 여러분\n",
            "\n",
            "개발자 여러분\n",
            "\n",
            "\n"
          ]
        }
      ]
    },
    {
      "cell_type": "code",
      "source": [
        "f = open('test.txt', 'a')\n",
        "f.write('힘내자')\n",
        "f.close()\n",
        "# 문자 추가 완료"
      ],
      "metadata": {
        "id": "InDwD6SOsrtY"
      },
      "execution_count": null,
      "outputs": []
    },
    {
      "cell_type": "code",
      "source": [
        "with open('test.txt', 'a') as f:\n",
        "    f.write('힘내자!!!')\n",
        "# 다른 방식으로 문자 추가 완료"
      ],
      "metadata": {
        "id": "AmvzUAgNs1Ei"
      },
      "execution_count": null,
      "outputs": []
    },
    {
      "cell_type": "code",
      "source": [
        "list = [10, 20 ,30]\n",
        "\n",
        "with open('test.txt', 'w') as f:\n",
        "        f.write(str(list))\n",
        "# 리스트 추가 완료"
      ],
      "metadata": {
        "id": "ZRshyZJcs-gz"
      },
      "execution_count": null,
      "outputs": []
    },
    {
      "cell_type": "code",
      "source": [
        "list = [10, 20 ,30]\n",
        "with open('test.txt', 'w') as f:\n",
        "        f.write('let test = ' + str(list))\n",
        "# let : 자바 스크립트 코드 도 가능"
      ],
      "metadata": {
        "id": "IiHqwpzEtX6v"
      },
      "execution_count": null,
      "outputs": []
    },
    {
      "cell_type": "code",
      "source": [
        "list = ['10', '20', '30']\n",
        "with open('test.txt', 'w') as f:\n",
        "    f.writelines(list)\n",
        "# 안에있는 값을 인트로 인식을해서 문자열로 바꿔서 입력"
      ],
      "metadata": {
        "id": "gfpajVQQuZya"
      },
      "execution_count": null,
      "outputs": []
    },
    {
      "cell_type": "code",
      "source": [
        "#csv\n",
        "list = [10, 20, 30]\n",
        "\n",
        "with open('test3.csv', 'w') as f:\n",
        "    f.write('.'.join(str(x) for x in list))"
      ],
      "metadata": {
        "colab": {
          "base_uri": "https://localhost:8080/",
          "height": 216
        },
        "id": "psGzfHosvBIb",
        "outputId": "7e61dc0e-f9ae-483e-e491-e134e3beb945"
      },
      "execution_count": null,
      "outputs": [
        {
          "output_type": "error",
          "ename": "TypeError",
          "evalue": "sequence item 0: expected str instance, int found",
          "traceback": [
            "\u001b[0;31m---------------------------------------------------------------------------\u001b[0m",
            "\u001b[0;31mTypeError\u001b[0m                                 Traceback (most recent call last)",
            "\u001b[0;32m/tmp/ipython-input-3973257424.py\u001b[0m in \u001b[0;36m<cell line: 0>\u001b[0;34m()\u001b[0m\n\u001b[1;32m      3\u001b[0m \u001b[0;34m\u001b[0m\u001b[0m\n\u001b[1;32m      4\u001b[0m \u001b[0;32mwith\u001b[0m \u001b[0mopen\u001b[0m\u001b[0;34m(\u001b[0m\u001b[0;34m'test3.csv'\u001b[0m\u001b[0;34m,\u001b[0m \u001b[0;34m'w'\u001b[0m\u001b[0;34m)\u001b[0m \u001b[0;32mas\u001b[0m \u001b[0mf\u001b[0m\u001b[0;34m:\u001b[0m\u001b[0;34m\u001b[0m\u001b[0;34m\u001b[0m\u001b[0m\n\u001b[0;32m----> 5\u001b[0;31m     \u001b[0mf\u001b[0m\u001b[0;34m.\u001b[0m\u001b[0mwrite\u001b[0m\u001b[0;34m(\u001b[0m\u001b[0;34m'.'\u001b[0m\u001b[0;34m.\u001b[0m\u001b[0mjoin\u001b[0m\u001b[0;34m(\u001b[0m\u001b[0mlist\u001b[0m\u001b[0;34m)\u001b[0m\u001b[0;34m)\u001b[0m\u001b[0;34m\u001b[0m\u001b[0;34m\u001b[0m\u001b[0m\n\u001b[0m",
            "\u001b[0;31mTypeError\u001b[0m: sequence item 0: expected str instance, int found"
          ]
        }
      ]
    },
    {
      "cell_type": "code",
      "source": [
        "#csv 파일로 만들기\n",
        "list = ['10', '20', '30']\n",
        "\n",
        "with open('test3.csv', 'w') as f:\n",
        "    f.write('.'.join(list))"
      ],
      "metadata": {
        "id": "VIhllqR1v_qn"
      },
      "execution_count": null,
      "outputs": []
    }
  ]
}