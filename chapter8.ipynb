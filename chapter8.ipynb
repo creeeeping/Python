{
  "nbformat": 4,
  "nbformat_minor": 0,
  "metadata": {
    "colab": {
      "provenance": [],
      "authorship_tag": "ABX9TyNGRKhaLA+uK7BO6Ka76Dsy",
      "include_colab_link": true
    },
    "kernelspec": {
      "name": "python3",
      "display_name": "Python 3"
    },
    "language_info": {
      "name": "python"
    }
  },
  "cells": [
    {
      "cell_type": "markdown",
      "metadata": {
        "id": "view-in-github",
        "colab_type": "text"
      },
      "source": [
        "<a href=\"https://colab.research.google.com/github/creeeeping/Python/blob/main/chapter8.ipynb\" target=\"_parent\"><img src=\"https://colab.research.google.com/assets/colab-badge.svg\" alt=\"Open In Colab\"/></a>"
      ]
    },
    {
      "cell_type": "markdown",
      "source": [
        "###자료형 종류  \n",
        "int(integer) : 정수형    \n",
        "float(float) : 실수   \n",
        "str(string) : 문자   \n",
        "bool(boolean) : 참 또는 거짓 ,true 또는 false , 1 또는 0   \n",
        "\n",
        "\n",
        "---\n",
        "list    \n",
        "tuple   \n",
        "dict   \n",
        "set"
      ],
      "metadata": {
        "id": "M6gVAysOtgKP"
      }
    },
    {
      "cell_type": "code",
      "source": [
        "# bool의 쇼타임 시작됩니다.\n",
        "# 주의할점 True x true False x false\n",
        "# 부등호\n",
        "3 > 1\n",
        "3 == 1\n",
        "3 == 3\n",
        "\n",
        "12 != 5\n",
        "20 != 20"
      ],
      "metadata": {
        "colab": {
          "base_uri": "https://localhost:8080/"
        },
        "id": "SmrOU547tz50",
        "outputId": "75872383-99a9-497d-a657-48f87c99fdb8"
      },
      "execution_count": null,
      "outputs": [
        {
          "output_type": "execute_result",
          "data": {
            "text/plain": [
              "False"
            ]
          },
          "metadata": {},
          "execution_count": 5
        }
      ]
    },
    {
      "cell_type": "code",
      "source": [
        "#문자열 비교\n",
        "\"python\" == \"Python\"\n",
        "\"python\" == \"python\"\n",
        "\"python\" != \"Python\""
      ],
      "metadata": {
        "colab": {
          "base_uri": "https://localhost:8080/"
        },
        "id": "7Ug2Gfalunwf",
        "outputId": "1236be13-a413-4145-999f-d975c28d6949"
      },
      "execution_count": null,
      "outputs": [
        {
          "output_type": "execute_result",
          "data": {
            "text/plain": [
              "True"
            ]
          },
          "metadata": {},
          "execution_count": 10
        }
      ]
    },
    {
      "cell_type": "code",
      "source": [
        "# 부등호\n",
        "5 >= 5\n",
        "5 < 4"
      ],
      "metadata": {
        "colab": {
          "base_uri": "https://localhost:8080/"
        },
        "id": "MozE6S6AvBUm",
        "outputId": "0a865d83-4fa0-4764-8289-3746f54e0f6f"
      },
      "execution_count": null,
      "outputs": [
        {
          "output_type": "execute_result",
          "data": {
            "text/plain": [
              "False"
            ]
          },
          "metadata": {},
          "execution_count": 12
        }
      ]
    },
    {
      "cell_type": "code",
      "source": [
        "# 중요\n",
        "# ==. is 둘다 같음\n",
        "3 is 3\n",
        "3 == 3\n",
        "3.0 == 3\n",
        "# == 는 값만 보지만 is 는 개체를 비교함\n",
        "\n",
        "print(id(3.0))\n",
        "print(id(3))\n"
      ],
      "metadata": {
        "colab": {
          "base_uri": "https://localhost:8080/"
        },
        "id": "6agJe2JZvKBi",
        "outputId": "179d4f0c-5302-4205-981c-00f58b8ca8db"
      },
      "execution_count": null,
      "outputs": [
        {
          "output_type": "stream",
          "name": "stdout",
          "text": [
            "137289377615952\n",
            "11642152\n"
          ]
        },
        {
          "output_type": "stream",
          "name": "stderr",
          "text": [
            "<>:3: SyntaxWarning: \"is\" with 'int' literal. Did you mean \"==\"?\n",
            "<>:3: SyntaxWarning: \"is\" with 'int' literal. Did you mean \"==\"?\n",
            "/tmp/ipython-input-2540176110.py:3: SyntaxWarning: \"is\" with 'int' literal. Did you mean \"==\"?\n",
            "  3 is 3\n"
          ]
        }
      ]
    },
    {
      "cell_type": "markdown",
      "source": [
        "미션 : 값 비교에는 is를 쓰면 안되는데 그 이유를 찾아거 기술 블로그에 작성해보시오."
      ],
      "metadata": {
        "id": "f9mBO04WvwEs"
      }
    },
    {
      "cell_type": "code",
      "source": [
        "# 기술 블로그나 깃허브엔 가능하면 보기 좋은것보다 실패를 더 많이 기록하고 고쳐나가기"
      ],
      "metadata": {
        "id": "PtLWkAlnxsm4"
      },
      "execution_count": null,
      "outputs": []
    },
    {
      "cell_type": "code",
      "source": [
        "#본격적인 논리연사자\n",
        "#true : 1 / false : 0\n",
        "# and *\n",
        "True and True. # 1 * 1 = 1\n",
        "True and False # 1 * 0 = 0\n",
        "False and True # 0 * 1 =  0\n",
        "False and False # 0 * 0 = 0\n",
        "\n"
      ],
      "metadata": {
        "colab": {
          "base_uri": "https://localhost:8080/"
        },
        "id": "scz0gCW9x06G",
        "outputId": "b51736ef-4044-41e7-d5ed-d25b4c8a32bb"
      },
      "execution_count": null,
      "outputs": [
        {
          "output_type": "execute_result",
          "data": {
            "text/plain": [
              "False"
            ]
          },
          "metadata": {},
          "execution_count": 23
        }
      ]
    },
    {
      "cell_type": "code",
      "source": [
        "#본격적인 논리연사자\n",
        "#true : 1 / false : 0\n",
        "# or +\n",
        "#True or True. # 1 + 1 = 1\n",
        "#True or False # 1 + 0 = 1\n",
        "#False or True # 0 + 1 =  1\n",
        "False or False # 0 + 0 = 0"
      ],
      "metadata": {
        "colab": {
          "base_uri": "https://localhost:8080/"
        },
        "id": "DBQUcMQ_y2N1",
        "outputId": "9276ef7e-26d3-4504-dd5c-fedd58846d62"
      },
      "execution_count": null,
      "outputs": [
        {
          "output_type": "execute_result",
          "data": {
            "text/plain": [
              "True"
            ]
          },
          "metadata": {},
          "execution_count": 26
        }
      ]
    },
    {
      "cell_type": "code",
      "source": [
        "#not\n",
        "#반대로\n",
        "\n",
        "not True\n",
        "\n",
        "not False\n"
      ],
      "metadata": {
        "colab": {
          "base_uri": "https://localhost:8080/"
        },
        "id": "qvzpMbF-zRPY",
        "outputId": "205385de-8d0b-44ca-f5ae-992f3bfaf205"
      },
      "execution_count": null,
      "outputs": [
        {
          "output_type": "execute_result",
          "data": {
            "text/plain": [
              "True"
            ]
          },
          "metadata": {},
          "execution_count": 28
        }
      ]
    },
    {
      "cell_type": "code",
      "source": [
        "# 점점 복잡해지는 조건들\n",
        "\n",
        "10 == 12 or 6 != 2 #t\n",
        "2 > 5 and 7==7 #f\n",
        "not 14 <= 15 #f\n",
        "not 7 is 7.0 # t(틀림) not때문에 트루가됨"
      ],
      "metadata": {
        "colab": {
          "base_uri": "https://localhost:8080/"
        },
        "id": "xA7SPk9gzpKV",
        "outputId": "f499de24-5735-44f6-ab94-f0785efbc61a"
      },
      "execution_count": null,
      "outputs": [
        {
          "output_type": "stream",
          "name": "stderr",
          "text": [
            "<>:6: SyntaxWarning: \"is not\" with 'int' literal. Did you mean \"!=\"?\n",
            "<>:6: SyntaxWarning: \"is not\" with 'int' literal. Did you mean \"!=\"?\n",
            "/tmp/ipython-input-1684652773.py:6: SyntaxWarning: \"is not\" with 'int' literal. Did you mean \"!=\"?\n",
            "  not 7 is 7.0 #f\n"
          ]
        },
        {
          "output_type": "execute_result",
          "data": {
            "text/plain": [
              "True"
            ]
          },
          "metadata": {},
          "execution_count": 32
        }
      ]
    },
    {
      "cell_type": "code",
      "source": [
        "# 문자열 True야?\n",
        "bool(\"힘들어요 여러분\")"
      ],
      "metadata": {
        "colab": {
          "base_uri": "https://localhost:8080/"
        },
        "id": "UelnzNjd0sdw",
        "outputId": "b6d16d94-d15a-41b0-b288-4505b9c70f44"
      },
      "execution_count": null,
      "outputs": [
        {
          "output_type": "execute_result",
          "data": {
            "text/plain": [
              "True"
            ]
          },
          "metadata": {},
          "execution_count": 33
        }
      ]
    },
    {
      "cell_type": "code",
      "source": [
        "# 중요한 내용\n",
        "# 단락 평가\n",
        "print(False and True) # 0 * 1\n",
        "print(False and \"힘들어요\") # 0 . 1\n",
        "\n",
        "print(True and False)\n",
        "\n",
        "print(True or \"힘들어요\") # 1 . 0 . 1\n",
        "print(True and \"힘들어요\") # 1 * 1 . 0"
      ],
      "metadata": {
        "colab": {
          "base_uri": "https://localhost:8080/"
        },
        "id": "OSw88IUe04XR",
        "outputId": "2046bd4d-8c08-4fff-f6e6-ccdf38171d9e"
      },
      "execution_count": null,
      "outputs": [
        {
          "output_type": "stream",
          "name": "stdout",
          "text": [
            "False\n",
            "False\n",
            "False\n",
            "True\n",
            "힘들어요\n"
          ]
        }
      ]
    }
  ]
}