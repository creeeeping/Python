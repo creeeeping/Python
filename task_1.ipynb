{
  "cells": [
    {
      "cell_type": "markdown",
      "metadata": {
        "id": "view-in-github",
        "colab_type": "text"
      },
      "source": [
        "<a href=\"https://colab.research.google.com/github/creeeeping/Python/blob/main/task_1.ipynb\" target=\"_parent\"><img src=\"https://colab.research.google.com/assets/colab-badge.svg\" alt=\"Open In Colab\"/></a>"
      ]
    },
    {
      "cell_type": "markdown",
      "metadata": {
        "id": "wqsXqdBTiO26"
      },
      "source": [
        "안녕하세요. 수강생 여러분~! Chapter33 ~ 41 수업은 잘 들으셨나요?\n",
        "\n",
        "Chapter33 ~ 41의 수업 내용을 바탕으로 아래 문제를 풀어주시면 됩니다.\n",
        "\n",
        "\n",
        "<br>\n",
        "\n",
        "\n",
        "[**답변 입력 방법**]\n",
        "\n",
        "문제 아래에 있는 코드 입력창에 정답코드를 작성하신 후  __▷ 버튼을 클릭해 코드를 실행__ 해보세요<br>"
      ]
    },
    {
      "cell_type": "markdown",
      "metadata": {
        "id": "ZF-lpInziO29"
      },
      "source": [
        "---"
      ]
    },
    {
      "cell_type": "markdown",
      "metadata": {
        "id": "O7XDYPD9iO29"
      },
      "source": [
        "[문제 1]\n",
        "\n",
        "사용자로부터 두 개의 숫자를 입력받아 나눗셈을 수행하는 프로그램을 작성하세요.\n",
        "\n",
        "[예외처리]\n",
        "- 입력 값이 숫자가 아닐 때 발생할 수 있는 ValueError\n",
        "- 나누는 수가 0일 때 발생할 수 있는 ZeroDivisionError\n",
        "- 위 2가지 예외처리 후 사용자에게 이해하기 쉬운 메시지 작성 후 출력되도록 코드를 작성"
      ]
    },
    {
      "cell_type": "code",
      "execution_count": 8,
      "metadata": {
        "colab": {
          "base_uri": "https://localhost:8080/"
        },
        "id": "7RCG3BACiO29",
        "outputId": "be6172d7-51d5-4b40-b86b-c40448229572"
      },
      "outputs": [
        {
          "output_type": "stream",
          "name": "stdout",
          "text": [
            "첫 번째 숫자를 입력하세요: 4\n",
            "두 번째 숫자를 입력하세요: 1\n",
            "결과: 4.0\n",
            "프로그램을 종료합니다.\n"
          ]
        }
      ],
      "source": [
        "def divide_numbers() -> None:\n",
        "    try:\n",
        "        num1: int = int(input(\"첫 번째 숫자를 입력하세요: \"))\n",
        "        num2: int = int(input(\"두 번째 숫자를 입력하세요: \"))\n",
        "\n",
        "        result: float = num1 / num2\n",
        "    except ValueError:\n",
        "        print(\"입력하신 값이 숫자가 아닙니다. 숫자만 입력해주세요!\")\n",
        "    except ZeroDivisionError:\n",
        "        print(\"0으로는 나눌 수 없습니다. 다른 숫자를 입력해주세요!\")\n",
        "    else:\n",
        "        print(f\"결과: {result}\")\n",
        "    finally:\n",
        "        print(\"프로그램을 종료합니다.\")\n",
        "\n",
        "divide_numbers()\n"
      ]
    },
    {
      "cell_type": "markdown",
      "metadata": {
        "id": "2WcxWncBiO29"
      },
      "source": [
        "---"
      ]
    },
    {
      "cell_type": "markdown",
      "metadata": {
        "id": "afipk2w-iO2-"
      },
      "source": [
        "[문제 2]\n",
        "\n",
        "파일을 읽어서 내용을 출력하는 프로그램을 작성하세요.\n",
        "\n",
        "- 파일이 존재하지 않을 때 발생하는 FileNotFoundError를 처리\n",
        "- 파일이 존재하지 않을 경우 \"파일을 찾을 수 없습니다.\"라는 메시지를 출력"
      ]
    },
    {
      "cell_type": "code",
      "execution_count": 5,
      "metadata": {
        "colab": {
          "base_uri": "https://localhost:8080/"
        },
        "id": "uwP8YqGAiO2-",
        "outputId": "36a6c515-9b5d-4f3e-abb9-48a4dfa9899a"
      },
      "outputs": [
        {
          "output_type": "stream",
          "name": "stdout",
          "text": [
            "파일을 찾을 수 없습니다.\n",
            "프로그램을 종료합니다.\n"
          ]
        }
      ],
      "source": [
        "def read_file(filename: str) -> None:\n",
        "    try:\n",
        "\n",
        "        with open(filename, 'r', encoding='utf-8') as file:\n",
        "            content: str = file.read()\n",
        "            print(\"파일 내용:\")\n",
        "            print(content)\n",
        "    except FileNotFoundError:\n",
        "        print(\"파일을 찾을 수 없습니다.\")\n",
        "    else:\n",
        "        print(\"파일을 성공적으로 읽었습니다.\")\n",
        "    finally:\n",
        "        print(\"프로그램을 종료합니다.\")\n",
        "\n",
        "\n",
        "read_file(\"example.txt\")\n"
      ]
    },
    {
      "cell_type": "markdown",
      "metadata": {
        "id": "47G2e5Y7iO2-"
      },
      "source": [
        "---"
      ]
    },
    {
      "cell_type": "markdown",
      "metadata": {
        "id": "r8FmAtcViO2-"
      },
      "source": [
        "[문제 3]\n",
        "\n",
        "사용자로부터 여러 개의 숫자를 입력받아 리스트에 저장한 후, 사용자가 'done'이라고 입력할 때까지 계속 입력받으세요.\n",
        "\n",
        "- 입력 중 숫자가 아닌 값이 입력되면 ValueError를 처리\n",
        "- 숫자 외 값이 입력된 경우 어떤 값이 잘못 입력되었는지 사용자에게 알려주는 문구 출력<br>\n",
        "  (예: f\"잘못된 값: {변수}. 숫자를 입력해주세요.\")\n",
        "\n"
      ]
    },
    {
      "cell_type": "code",
      "execution_count": 7,
      "metadata": {
        "colab": {
          "base_uri": "https://localhost:8080/"
        },
        "id": "QsZBzaVHiO2-",
        "outputId": "cc5052b6-2b4c-417e-b3ac-e7d0bf0ed71c"
      },
      "outputs": [
        {
          "output_type": "stream",
          "name": "stdout",
          "text": [
            "숫자를 입력하세요 (그만하려면 'done' 입력): 523\n",
            "숫자를 입력하세요 (그만하려면 'done' 입력): 4\n",
            "숫자를 입력하세요 (그만하려면 'done' 입력): 23\n",
            "숫자를 입력하세요 (그만하려면 'done' 입력): 62\n",
            "숫자를 입력하세요 (그만하려면 'done' 입력): done\n",
            "\n",
            "입력된 숫자 리스트: [523, 4, 23, 62]\n",
            "프로그램을 종료합니다.\n"
          ]
        }
      ],
      "source": [
        "def input_numbers() -> None:\n",
        "    numbers: list[float] = []\n",
        "\n",
        "    while True:\n",
        "        user_input: str = input(\"숫자를 입력하세요 (그만하려면 'done' 입력): \")\n",
        "\n",
        "        if user_input.lower() == 'done':\n",
        "            break\n",
        "\n",
        "        try:\n",
        "            number: int = int(user_input)\n",
        "            numbers.append(number)\n",
        "        except ValueError:\n",
        "            print(f\"잘못된 값: {user_input}. 숫자를 입력해주세요.\")\n",
        "\n",
        "    print(\"\\n입력된 숫자 리스트:\", numbers)\n",
        "    print(\"프로그램을 종료합니다.\")\n",
        "\n",
        "\n",
        "input_numbers()\n"
      ]
    },
    {
      "cell_type": "markdown",
      "metadata": {
        "id": "wHXqurSSiO2-"
      },
      "source": [
        "---"
      ]
    },
    {
      "cell_type": "markdown",
      "metadata": {
        "id": "RIQHbqIdiO2_"
      },
      "source": [
        "[문제 4]\n",
        "\n",
        "사용자 정의 예외 NegativeNumberError를 생성하고, 사용자로부터 숫자를 입력받아 음수일 경우 NegativeNumberError를 발생시키는 프로그램을 작성하세요.\n",
        "\n",
        "- 예외 처리 구문을 사용하여 음수 입력 시 \"양수를 입력해주세요.\"라는 메시지를 출력"
      ]
    },
    {
      "cell_type": "code",
      "execution_count": 12,
      "metadata": {
        "colab": {
          "base_uri": "https://localhost:8080/"
        },
        "id": "WP1OPA4xiO2_",
        "outputId": "39755640-2041-45e6-a2b7-9c576411b644"
      },
      "outputs": [
        {
          "output_type": "stream",
          "name": "stdout",
          "text": [
            "숫자를 입력하세요: -23\n",
            "양수를 입력해주세요.\n",
            "프로그램을 종료합니다.\n"
          ]
        }
      ],
      "source": [
        "\n",
        "class NegativeNumberError(Exception):\n",
        "    \"\"\"음수가 입력되었을 때 발생하는 예외\"\"\"\n",
        "    pass\n",
        "\n",
        "def input_positive_number() -> None:\n",
        "    try:\n",
        "        num: int = int(input(\"숫자를 입력하세요: \"))\n",
        "\n",
        "\n",
        "        if num < 0:\n",
        "            raise NegativeNumberError\n",
        "\n",
        "        print(f\"입력한 숫자: {num}\")\n",
        "\n",
        "    except NegativeNumberError:\n",
        "        print(\"양수를 입력해주세요.\")\n",
        "    except ValueError:\n",
        "        print(\"숫자만 입력해주세요!\")\n",
        "    finally:\n",
        "        print(\"프로그램을 종료합니다.\")\n",
        "\n",
        "input_positive_number()\n",
        "\n"
      ]
    },
    {
      "cell_type": "markdown",
      "metadata": {
        "id": "jAM2dlhDiO2_"
      },
      "source": [
        "---"
      ]
    },
    {
      "cell_type": "markdown",
      "metadata": {
        "id": "rMA_146PiO2_"
      },
      "source": [
        "[문제 5]\n",
        "\n",
        "datetime 모듈을 사용하여 현재 날짜와 시간을 출력하는 프로그램을 작성하세요.\n",
        "\n",
        "또한, 사용자로부터 태어난 년도를 입력받아 현재 나이를 계산하여 출력하세요."
      ]
    },
    {
      "cell_type": "code",
      "execution_count": 13,
      "metadata": {
        "colab": {
          "base_uri": "https://localhost:8080/"
        },
        "id": "zaIXwBxHiO2_",
        "outputId": "80b09865-7db4-4349-ae32-f613dbf6fbaf"
      },
      "outputs": [
        {
          "output_type": "stream",
          "name": "stdout",
          "text": [
            "현재 날짜와 시간: 2025-10-19 04:57:16\n",
            "태어난 년도를 입력하세요: 1988\n",
            "당신의 나이는 37살입니다.\n",
            "프로그램을 종료합니다.\n"
          ]
        }
      ],
      "source": [
        "from datetime import datetime\n",
        "\n",
        "def show_age() -> None:\n",
        "\n",
        "    now: datetime = datetime.now()\n",
        "    print(f\"현재 날짜와 시간: {now.strftime('%Y-%m-%d %H:%M:%S')}\")\n",
        "\n",
        "    try:\n",
        "\n",
        "        birth_year: int = int(input(\"태어난 년도를 입력하세요: \"))\n",
        "\n",
        "\n",
        "        current_year: int = now.year\n",
        "        age: int = current_year - birth_year\n",
        "\n",
        "\n",
        "        print(f\"당신의 나이는 {age}살입니다.\")\n",
        "\n",
        "    except ValueError:\n",
        "        print(\"숫자만 입력해주세요!\")\n",
        "    finally:\n",
        "        print(\"프로그램을 종료합니다.\")\n",
        "\n",
        "\n",
        "\n",
        "show_age()\n"
      ]
    },
    {
      "cell_type": "markdown",
      "metadata": {
        "id": "6Ofj5qO2iO2_"
      },
      "source": [
        "---"
      ]
    },
    {
      "cell_type": "markdown",
      "metadata": {
        "id": "M7XYMs6ciO2_"
      },
      "source": [
        "[문제 6]\n",
        "\n",
        "requests 모듈을 사용하여, 웹 페이지의 HTML을 가져오는 간단한 웹 스크레이퍼를 작성하세요.\n",
        "\n",
        "'https://kream.co.kr/'에서<br>\n",
        "데이터를 가져와서 상태 코드와 HTML의 첫 100자를 출력하세요.<br>\n",
        "(실습 전 requests 모듈을 설치해야 함)"
      ]
    },
    {
      "cell_type": "code",
      "execution_count": null,
      "metadata": {
        "id": "JRrhW3wJiO2_"
      },
      "outputs": [],
      "source": []
    },
    {
      "cell_type": "markdown",
      "metadata": {
        "id": "0Su4wSejiO2_"
      },
      "source": [
        "---"
      ]
    },
    {
      "cell_type": "markdown",
      "metadata": {
        "id": "fPt8eFAmiO2_"
      },
      "source": [
        "[문제 7]\n",
        "\n",
        "함수 실행 시간을 측정하는 데코레이터 timer_decorator를 작성하세요.\n",
        "\n",
        "임의의 함수가 실행되는 시간을 측정하여 \"함수 실행 시간: x.xx초\" 형태로 출력하세요."
      ]
    },
    {
      "cell_type": "code",
      "execution_count": 16,
      "metadata": {
        "colab": {
          "base_uri": "https://localhost:8080/"
        },
        "id": "DgE6a5lPiO2_",
        "outputId": "f9a3084c-8ca6-4df1-fc12-861ee7f1bfcc"
      },
      "outputs": [
        {
          "output_type": "stream",
          "name": "stdout",
          "text": [
            "함수가 실행 중입니다...\n",
            "함수 실행이 끝났습니다!\n",
            "함수 실행 시간: 2.0초\n"
          ]
        }
      ],
      "source": [
        "import time\n",
        "\n",
        "def timer_decorator(func):\n",
        "    def wrapper(*args, **kwargs):\n",
        "        start_time = time.time()\n",
        "        result = func(*args, **kwargs)\n",
        "        end_time = time.time()\n",
        "        print(f\"함수 실행 시간: {end_time - start_time:.2f}초\")\n",
        "        return result\n",
        "    return wrapper\n",
        "\n",
        "\n",
        "\n",
        "@timer_decorator\n",
        "def function() -> None:\n",
        "    print(\"함수가 실행 중입니다...\")\n",
        "    time.sleep(2)\n",
        "    print(\"함수 실행이 끝났습니다!\")\n",
        "\n",
        "\n",
        "\n",
        "function()\n"
      ]
    },
    {
      "cell_type": "markdown",
      "metadata": {
        "id": "0ubUfxmniO2_"
      },
      "source": [
        "---"
      ]
    },
    {
      "cell_type": "markdown",
      "metadata": {
        "id": "gG0-Ut7viO2_"
      },
      "source": [
        "[문제 8]\n",
        "\n",
        "여러분이 자주 사용하는 수학적 연산<br>\n",
        "(예: 삼각형 넓이, 원의 넓이, 직육면체의 넓이)을 수행하는 함수들을 포함하는 mymath.py라는 이름의 모듈을 만드세요.\n",
        "\n",
        "이 모듈을 사용하여 작성된 함수들을 실제로 임포트하고 사용하는 간단한 프로그램을 작성하세요."
      ]
    },
    {
      "cell_type": "code",
      "execution_count": 9,
      "metadata": {
        "id": "8J9VNZ_RiO2_"
      },
      "outputs": [],
      "source": [
        "\n",
        "import math\n",
        "\n",
        "def triangle_area(base, height):\n",
        "    return 0.5 * base * height\n",
        "\n",
        "def circle_area(radius):\n",
        "    return math.pi * radius ** 2\n",
        "\n",
        "def cuboid_area(length, width, height):\n",
        "    return 2 * (length*width + length*height + width*height)\n",
        "\n"
      ]
    },
    {
      "cell_type": "code",
      "source": [
        "print(\"삼각형 넓이:\", triangle_area(5, 10))\n",
        "print(\"원의 넓이:\", circle_area(7))\n",
        "print(\"직육면체 겉넓이:\", cuboid_area(3, 5, 2))"
      ],
      "metadata": {
        "colab": {
          "base_uri": "https://localhost:8080/"
        },
        "id": "EA_43D4uX9BX",
        "outputId": "a1110f4e-f2e2-465b-d983-fba716652ac1"
      },
      "execution_count": 10,
      "outputs": [
        {
          "output_type": "stream",
          "name": "stdout",
          "text": [
            "삼각형 넓이: 25.0\n",
            "원의 넓이: 153.93804002589985\n",
            "직육면체 겉넓이: 62\n"
          ]
        }
      ]
    },
    {
      "cell_type": "markdown",
      "metadata": {
        "id": "v-papaa4iO2_"
      },
      "source": [
        "---"
      ]
    },
    {
      "cell_type": "markdown",
      "metadata": {
        "id": "uUkIZw7yiO3A"
      },
      "source": [
        "[문제 9]\n",
        "\n",
        "animals라는 패키지를 만들고, 이 패키지 내에 mammals, birds라는 두 개의 서브 모듈을 생성하세요.\n",
        "\n",
        "- 각 모듈에는 최소한 한 개 이상의 동물에 관한 클래스를 정의하세요<br>\n",
        "  (예: mammals에는 Dog, birds에는 Eagle)\n",
        "- 이 패키지와 모듈을 사용하여 동물들의 정보를 출력하는 프로그램을 작성\n",
        "\n",
        "폴더 및 파일 구조\n",
        "```\n",
        "animals/(폴더)\n",
        "├── __init__.py\n",
        "├── mammals.py\n",
        "└── birds.py\n",
        "```\n"
      ]
    },
    {
      "cell_type": "markdown",
      "source": [
        "9번은 문제가 이해가 안되서 ai 썻습니다."
      ],
      "metadata": {
        "id": "ySrzY_jZdBQ8"
      }
    },
    {
      "cell_type": "code",
      "metadata": {
        "colab": {
          "base_uri": "https://localhost:8080/"
        },
        "id": "d2c120ad",
        "outputId": "f67aef5b-b9e0-4390-ff3b-1558f927a377"
      },
      "source": [
        "!mkdir animals\n",
        "!touch animals/__init__.py\n",
        "!touch animals/mammals.py\n",
        "!touch animals/birds.py"
      ],
      "execution_count": 25,
      "outputs": [
        {
          "output_type": "stream",
          "name": "stdout",
          "text": [
            "mkdir: cannot create directory ‘animals’: File exists\n"
          ]
        }
      ]
    },
    {
      "cell_type": "code",
      "metadata": {
        "colab": {
          "base_uri": "https://localhost:8080/"
        },
        "id": "b75331d7",
        "outputId": "c821f911-f55d-4bbf-8cf2-64b3933a96d8"
      },
      "source": [
        "%%writefile animals/mammals.py\n",
        "class Dog:\n",
        "    def __init__(self, name, age):\n",
        "        self.name = name\n",
        "        self.age = age\n",
        "\n",
        "    def speak(self):\n",
        "        return \"Woof!\"\n",
        "\n",
        "    def info(self):\n",
        "        return f\"Dog: Name - {self.name}, Age - {self.age}, Sound - {self.speak()}\""
      ],
      "execution_count": 26,
      "outputs": [
        {
          "output_type": "stream",
          "name": "stdout",
          "text": [
            "Overwriting animals/mammals.py\n"
          ]
        }
      ]
    },
    {
      "cell_type": "code",
      "metadata": {
        "colab": {
          "base_uri": "https://localhost:8080/"
        },
        "id": "725ed4cb",
        "outputId": "9c2ba4f7-5ee5-46c3-a551-41449cf92a91"
      },
      "source": [
        "%%writefile animals/birds.py\n",
        "class Eagle:\n",
        "    def __init__(self, name, wing_span):\n",
        "        self.name = name\n",
        "        self.wing_span = wing_span\n",
        "\n",
        "    def speak(self):\n",
        "        return \"Screech!\"\n",
        "\n",
        "    def info(self):\n",
        "        return f\"Eagle: Name - {self.name}, Wingspan - {self.wing_span} cm, Sound - {self.speak()}\""
      ],
      "execution_count": 27,
      "outputs": [
        {
          "output_type": "stream",
          "name": "stdout",
          "text": [
            "Overwriting animals/birds.py\n"
          ]
        }
      ]
    },
    {
      "cell_type": "code",
      "metadata": {
        "colab": {
          "base_uri": "https://localhost:8080/"
        },
        "id": "4991b271",
        "outputId": "e259082d-8a47-40d2-e4a4-1a3e396ec17b"
      },
      "source": [
        "from animals.mammals import Dog\n",
        "from animals.birds import Eagle\n",
        "\n",
        "dog = Dog(\"Buddy\", 3)\n",
        "eagle = Eagle(\"Majestic\", 200)\n",
        "\n",
        "print(dog.info())\n",
        "print(eagle.info())"
      ],
      "execution_count": 28,
      "outputs": [
        {
          "output_type": "stream",
          "name": "stdout",
          "text": [
            "Dog: Name - Buddy, Age - 3, Sound - Woof!\n",
            "Eagle: Name - Majestic, Wingspan - 200 cm, Sound - Screech!\n"
          ]
        }
      ]
    },
    {
      "cell_type": "markdown",
      "metadata": {
        "id": "Gtn-rJ-DiO3A"
      },
      "source": [
        "---"
      ]
    }
  ],
  "metadata": {
    "language_info": {
      "name": "python"
    },
    "colab": {
      "provenance": [],
      "include_colab_link": true
    },
    "kernelspec": {
      "name": "python3",
      "display_name": "Python 3"
    }
  },
  "nbformat": 4,
  "nbformat_minor": 0
}