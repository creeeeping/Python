{
  "cells": [
    {
      "cell_type": "markdown",
      "metadata": {
        "id": "view-in-github",
        "colab_type": "text"
      },
      "source": [
        "<a href=\"https://colab.research.google.com/github/creeeeping/Python/blob/main/task_1_2.ipynb\" target=\"_parent\"><img src=\"https://colab.research.google.com/assets/colab-badge.svg\" alt=\"Open In Colab\"/></a>"
      ]
    },
    {
      "cell_type": "markdown",
      "metadata": {
        "id": "XtVFqeZveAbO"
      },
      "source": [
        "안녕하세요. 수강생 여러분~! Chapter42 ~ 47 수업은 잘 들으셨나요?\n",
        "\n",
        "Chapter42 ~ 47의 수업 내용을 바탕으로 아래 문제를 풀어주시면 됩니다.\n",
        "\n",
        "\n",
        "<br>\n",
        "\n",
        "\n",
        "[**답변 입력 방법**]\n",
        "\n",
        "문제 아래에 있는 코드 입력창에 정답코드를 작성하신 후  __▷ 버튼을 클릭해 코드를 실행__ 해보세요<br>"
      ]
    },
    {
      "cell_type": "markdown",
      "metadata": {
        "id": "5qKKNlxmeAbQ"
      },
      "source": [
        "---"
      ]
    },
    {
      "cell_type": "markdown",
      "metadata": {
        "id": "CKRqBPFLeAbQ"
      },
      "source": [
        "[문제 1]\n",
        "\n",
        "'Person'이라는 클래스를 선언하세요. 이 클래스는 name (이름)과 age (나이) 두 개의 속성을 갖습니다.<br>\n",
        "\n",
        "그리고 'greet'라는 메소드를 갖고 있으며, 이 메소드는 \"안녕하세요, 제 이름은 [name]입니다.\n",
        "\n",
        "나이는 [age]살입니다.\"라는 메시지를 반환합니다.<br>\n",
        "이 클래스를 사용하여 '홍길동'이라는 이름과 20살의 나이를 가진 'Person' 객체를 생성하고, 'greet' 메소드를 호출하여 메시지를 출력하세요."
      ]
    },
    {
      "cell_type": "code",
      "execution_count": null,
      "metadata": {
        "colab": {
          "base_uri": "https://localhost:8080/"
        },
        "id": "4KbJ6PxJeAbQ",
        "outputId": "e4d9e1de-6aa9-426b-fe9b-80b8101c8289"
      },
      "outputs": [
        {
          "output_type": "stream",
          "name": "stdout",
          "text": [
            "안녕하세요, 제 이름은 홍길동입니다. 나이는 20살입니다.\n"
          ]
        }
      ],
      "source": [
        "class Person:\n",
        "    def __init__(self, name, age):\n",
        "        self.name = name\n",
        "        self.age = age\n",
        "\n",
        "    def greet(self):\n",
        "        return f\"안녕하세요, 제 이름은 {self.name}입니다. 나이는 {self.age}살입니다.\"\n",
        "\n",
        "person = Person(\"홍길동\", 20)\n",
        "print(person.greet())"
      ]
    },
    {
      "cell_type": "markdown",
      "metadata": {
        "id": "P-UPjn1reAbQ"
      },
      "source": [
        "[문제 2]\n",
        "\n",
        "'Rectangle' 클래스를 작성하세요.\n",
        "\n",
        "이 클래스는 높이(height)와 너비(width)를 속성으로 가지며, 생성자(__init__)를 통해 이 두 속성을 초기화합니다.\n",
        "\n",
        "'area' 메소드를 추가하여 사각형의 면적을 계산하고 반환하도록 하세요. 높이가 10, 너비가 5인 사각형 객체를 생성하고,<br>\n",
        "이 객체를 사용하여 면적을 계산해 출력하세요."
      ]
    },
    {
      "cell_type": "code",
      "execution_count": null,
      "metadata": {
        "colab": {
          "base_uri": "https://localhost:8080/"
        },
        "id": "rEo9g-5BeAbR",
        "outputId": "86335edf-1fda-4332-ad9a-dd0324e5c19b"
      },
      "outputs": [
        {
          "output_type": "stream",
          "name": "stdout",
          "text": [
            "사각형의 면적: 50\n"
          ]
        }
      ],
      "source": [
        "class Rectangle:\n",
        "    def __init__(self, height, width):\n",
        "        self.height = height\n",
        "        self.width = width\n",
        "\n",
        "    def area(self):\n",
        "        return self.height * self.width\n",
        "\n",
        "rect = Rectangle(10, 5)\n",
        "\n",
        "print(f\"사각형의 면적: {rect.area()}\")"
      ]
    },
    {
      "cell_type": "markdown",
      "metadata": {
        "id": "FF-RVAcceAbR"
      },
      "source": [
        "---"
      ]
    },
    {
      "cell_type": "markdown",
      "metadata": {
        "id": "j7TJmYs5eAbR"
      },
      "source": [
        "[문제 3]\n",
        "\n",
        "'Book' 클래스를 선언하세요.\n",
        "\n",
        "이 클래스는 title (제목)과 author (저자) 두 개의 속성을 갖습니다.\n",
        "\n",
        "__str__ 특수 메소드를 오버라이드하여, 객체를 문자열로 변환할 때 \"제목: [title], 저자: [author]\" 형식의 문자열을 반환하도록 하세요.\n",
        "\n",
        "'Book' 객체를 하나 생성하고, print 함수를 사용하여 해당 객체의 문자열 표현을 출력하세요."
      ]
    },
    {
      "cell_type": "code",
      "execution_count": null,
      "metadata": {
        "colab": {
          "base_uri": "https://localhost:8080/"
        },
        "id": "cLUOQPuQeAbR",
        "outputId": "855bc136-5122-42e1-9917-86be7561ff36"
      },
      "outputs": [
        {
          "output_type": "stream",
          "name": "stdout",
          "text": [
            "제목: 원피스, 저자: 오다 에이치로\n"
          ]
        }
      ],
      "source": [
        "class Book:\n",
        "    def __init__(self, title, author):\n",
        "        self.title = title\n",
        "        self.author = author\n",
        "\n",
        "    def __str__(self):\n",
        "        return f\"제목: {self.title}, 저자: {self.author}\"\n",
        "\n",
        "my_book = Book(\"원피스\", \"오다 에이치로\")\n",
        "\n",
        "print(my_book)\n"
      ]
    },
    {
      "cell_type": "markdown",
      "metadata": {
        "id": "VEo84j83eAbR"
      },
      "source": [
        "---"
      ]
    },
    {
      "cell_type": "markdown",
      "metadata": {
        "id": "PdPrmP_weAbR"
      },
      "source": [
        "[문제 4]\n",
        "\n",
        "'Employee' 클래스를 선언하세요.\n",
        "\n",
        "이 클래스는 월급인상률을 의미하는 클래스 변수로 'raise_amount'를 갖고 있으며, 기본값은 1.04입니다. 다음 급여는 기본 급여에 월급인상률을 곱한 값으로 결정합니다.\n",
        "\n",
        "또한, 각 직원의 이름(name)과 급여(salary)를 속성으로 가지며, 'apply_raise' 메소드를 통해 급여에 'raise_amount'를 적용할 수 있어야 합니다.\n",
        "\n",
        "'Employee' 클래스의 객체 두 개를 생성하고, 한 객체에만 'raise_amount'를 변경한 후, 두 객체의 급여를 증가시켜보세요.<br>\n",
        "그리고 각 객체의 새로운 급여를 출력하세요."
      ]
    },
    {
      "cell_type": "code",
      "execution_count": null,
      "metadata": {
        "colab": {
          "base_uri": "https://localhost:8080/"
        },
        "id": "4sOEypdZeAbR",
        "outputId": "e1e7b52b-1a10-41e2-d96e-1acab2f5efa3"
      },
      "outputs": [
        {
          "output_type": "stream",
          "name": "stdout",
          "text": [
            "루피의 새로운 급여: 3744000.0\n",
            "조로의 새로운 급여: 3536000.0\n"
          ]
        }
      ],
      "source": [
        "class Employee:\n",
        "    raise_amount = 1.04\n",
        "\n",
        "    def __init__(self, name, salary):\n",
        "        self.name = name\n",
        "        self.salary = salary\n",
        "\n",
        "    def apply_raise(self):\n",
        "        self.salary = self.salary * self.raise_amount\n",
        "\n",
        "emp1 = Employee(\"루피\", 3600000)\n",
        "emp2 = Employee(\"조로\", 3400000)\n",
        "\n",
        "emp1.raise_amount = 1.04\n",
        "\n",
        "emp1.apply_raise()\n",
        "emp2.apply_raise()\n",
        "\n",
        "print(f\"{emp1.name}의 새로운 급여: {emp1.salary}\")\n",
        "print(f\"{emp2.name}의 새로운 급여: {emp2.salary}\")\n"
      ]
    },
    {
      "cell_type": "markdown",
      "metadata": {
        "id": "r_Vbz_6neAbS"
      },
      "source": [
        "[문제 5]\n",
        "\n",
        "'Account' 클래스를 작성하세요.\n",
        "\n",
        "이 클래스는 소유자(owner)와 잔액(balance)을 속성으로 가지며, 잔액은 프라이빗 변수로 선언합니다.\n",
        "\n",
        "'deposit'와 'withdraw' 두 개의 메소드를 통해 잔액을 조작할 수 있도록 하세요.\n",
        "\n",
        "이 때, 잔액은 음수가 될 수 없도록 체크해야 합니다. 'Account' 객체를 생성하고,<br>\n",
        "입금 및 출금 작업을 시뮬레이션한 후, 최종 잔액을 출력하세요."
      ]
    },
    {
      "cell_type": "code",
      "execution_count": null,
      "metadata": {
        "colab": {
          "base_uri": "https://localhost:8080/"
        },
        "id": "gRD5WwSjeAbS",
        "outputId": "fb62adc8-04e9-40dc-e76b-8e380f79effd"
      },
      "outputs": [
        {
          "output_type": "stream",
          "name": "stdout",
          "text": [
            "1600000원 입금 완료. 현재 잔액: 2600000원\n",
            "100000원 출금 완료. 현재 잔액: 2500000원\n",
            "300000원 출금 완료. 현재 잔액: 2200000원\n",
            "쵸파의 최종 잔액: 2200000원\n"
          ]
        }
      ],
      "source": [
        "class Account:\n",
        "    def __init__(self, owner, balance):\n",
        "        self.owner = owner\n",
        "        self.__balance = balance\n",
        "\n",
        "    def deposit(self, amount):\n",
        "        if amount > 0:\n",
        "            self.__balance += amount\n",
        "            print(f\"{amount}원 입금 완료. 현재 잔액: {self.__balance}원\")\n",
        "        else:\n",
        "            print(\"입금 금액은 0보다 커야 합니다.\")\n",
        "\n",
        "    def withdraw(self, amount):\n",
        "        if amount > self.__balance:\n",
        "            print(\"잔액이 부족합니다. 출금 실패.\")\n",
        "        elif amount <= 0:\n",
        "            print(\"출금 금액은 0보다 커야 합니다.\")\n",
        "        else:\n",
        "            self.__balance -= amount\n",
        "            print(f\"{amount}원 출금 완료. 현재 잔액: {self.__balance}원\")\n",
        "\n",
        "    def get_balance(self):\n",
        "        return self.__balance\n",
        "\n",
        "account = Account(\"쵸파\", 1000000)\n",
        "\n",
        "account.deposit(1600000)\n",
        "account.withdraw(100000)\n",
        "account.withdraw(300000)\n",
        "\n",
        "print(f\"{account.owner}의 최종 잔액: {account.get_balance()}원\")\n"
      ]
    },
    {
      "cell_type": "markdown",
      "metadata": {
        "id": "PeDsrcZHeAbS"
      },
      "source": [
        "[문제 6]\n",
        "\n",
        "'Vehicle'이라는 기본 클래스를 선언하세요.\n",
        "\n",
        "이 클래스는 make (제조사)와 model (모델명) 두 개의 속성을 갖고, 생성자(__init__)를 통해 이 두 속성을 초기화합니다. 'display_info'라는 메소드를 추가하여, \"이 차량은 [make]에서 제조한 [model]입니다.\"라는 메시지를 반환하도록 하세요.\n",
        "\n",
        "'Truck'과 'Car' 두 개의 하위 클래스를 생성하고, 각 클래스는 'Vehicle' 클래스로부터 상속받습니다.\n",
        "\n",
        "'Truck' 클래스에는 추가로 'payload' (적재량) 속성을, 'Car' 클래스에는 'seats' (좌석 수) 속성을 추가합니다. 각각의 하위 클래스에서 'display_info' 메소드는 기본 클래스의 메소드를 그대로 사용합니다.\n",
        "\n",
        "'Truck'과 'Car' 객체 각각을 생성하고, 'display_info' 메소드를 호출하여 정보를 출력하세요.\n",
        "\n",
        "또한, 각 객체의 추가 속성(적재량, 좌석 수)에 대한 정보도 출력하세요.\n",
        "\n",
        "이 문제는 클래스의 상속 개념을 이해하고, 기본 클래스의 속성과 메소드를 하위 클래스가 어떻게 활용할 수 있는지 보여줍니다.\n",
        "\n",
        "오버라이드는 필요하지 않으며, 각 하위 클래스의 고유한 속성을 추가하는 방법에 초점을 맞춥니다."
      ]
    },
    {
      "cell_type": "code",
      "execution_count": null,
      "metadata": {
        "id": "kQSxZqxmeAbS",
        "colab": {
          "base_uri": "https://localhost:8080/"
        },
        "outputId": "5f68fee9-1549-4743-c769-53d6800e3ae1"
      },
      "outputs": [
        {
          "output_type": "stream",
          "name": "stdout",
          "text": [
            "이 차량은 벤츠에서 제조한 S-Class입니다.\n",
            "좌석 수: 5개\n",
            "\n",
            "이 차량은 볼보에서 제조한 FH16입니다.\n",
            "적재량: 20000kg\n"
          ]
        }
      ],
      "source": [
        "class Vehicle:\n",
        "    def __init__(self, make, model):\n",
        "        self.make = make\n",
        "        self.model = model\n",
        "\n",
        "    def display_info(self):\n",
        "        return f\"이 차량은 {self.make}에서 제조한 {self.model}입니다.\"\n",
        "\n",
        "class Car(Vehicle):\n",
        "    def __init__(self, make, model, seats):\n",
        "        super().__init__(make, model)\n",
        "        self.seats = seats\n",
        "\n",
        "class Truck(Vehicle):\n",
        "    def __init__(self, make, model, payload):\n",
        "        super().__init__(make, model)\n",
        "        self.payload = payload\n",
        "\n",
        "\n",
        "car = Car(\"벤츠\", \"S-Class\", 5)\n",
        "truck = Truck(\"볼보\", \"FH16\", 20000)\n",
        "\n",
        "print(car.display_info())\n",
        "print(f\"좌석 수: {car.seats}개\\n\")\n",
        "\n",
        "print(truck.display_info())\n",
        "print(f\"적재량: {truck.payload}kg\")\n"
      ]
    },
    {
      "cell_type": "markdown",
      "metadata": {
        "id": "NXk5vHbxeAbS"
      },
      "source": [
        "---"
      ]
    }
  ],
  "metadata": {
    "language_info": {
      "name": "python"
    },
    "colab": {
      "provenance": [],
      "include_colab_link": true
    },
    "kernelspec": {
      "name": "python3",
      "display_name": "Python 3"
    }
  },
  "nbformat": 4,
  "nbformat_minor": 0
}
