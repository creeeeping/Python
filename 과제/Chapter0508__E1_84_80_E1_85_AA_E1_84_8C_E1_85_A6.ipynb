{
  "cells": [
    {
      "cell_type": "markdown",
      "metadata": {
        "id": "view-in-github",
        "colab_type": "text"
      },
      "source": [
        "<a href=\"https://colab.research.google.com/github/creeeeping/Python/blob/main/Chapter0508__E1_84_80_E1_85_AA_E1_84_8C_E1_85_A6.ipynb\" target=\"_parent\"><img src=\"https://colab.research.google.com/assets/colab-badge.svg\" alt=\"Open In Colab\"/></a>"
      ]
    },
    {
      "cell_type": "markdown",
      "metadata": {
        "id": "WXEwMsfUct7U"
      },
      "source": [
        "안녕하세요.<br><br>\n",
        "수강생 여러분~! Chapter05 ~ 08 수업은 잘 들으셨나요?\n",
        "\n",
        "Chapter05 ~ 08의 수업 내용을 바탕으로 아래 문제를 풀어주시면 됩니다.\n",
        "\n",
        "<br>\n",
        "\n",
        "\n",
        "[**답변 입력 방법**]\n",
        "\n",
        "문제 아래에 있는 코드 입력창에 정답코드를 작성하신 후  __▷ 버튼을 클릭해 코드를 실행__ 해보세요<br>"
      ]
    },
    {
      "cell_type": "markdown",
      "metadata": {
        "id": "qoyC9wF-3hvs"
      },
      "source": [
        "-----"
      ]
    },
    {
      "cell_type": "markdown",
      "metadata": {
        "id": "eRUrxtZVT2vh"
      },
      "source": [
        "## 모험가들의 레벨업 도전\n",
        "\n",
        "### [배경 이야기]\n",
        "\n",
        "당신은 마법사, 전사, 도적, 힐러 네 명의 모험가를 이끄는 리더입니다.\n",
        "\n",
        "각 캐릭터는 힘, 민첩, 지능, 체력이라는 능력치를 가지고 있습니다. 이 능력치들을 이용해 다양한 도전을 해결하고 사냥을 통해 경험치를 얻어 레벨업을 해야 합니다.\n",
        "\n",
        "<br>\n",
        "\n",
        "### [동료 캐릭터와 능력치 정보]\n",
        "\n",
        "마법사: 힘(10), 민첩(20), 지능(80), 체력(50)\n",
        "\n",
        "전사: 힘(80), 민첩(30), 지능(20), 체력(100)\n",
        "\n",
        "도적: 힘(40), 민첩(80), 지능(30), 체력(60)\n",
        "\n",
        "힐러: 힘(20), 민첩(40), 지능(70), 체력(70)\n",
        "\n",
        "<br>\n",
        "\n",
        "* 변수명을 영어로 변경해서 풀어보세요 !"
      ]
    },
    {
      "cell_type": "code",
      "execution_count": null,
      "metadata": {
        "id": "eGwd9TDJT2vh"
      },
      "outputs": [],
      "source": [
        "Wizard_strength = 10\n",
        "Wizard_agility = 20\n",
        "Wizard_intelligence = 80\n",
        "Wizard_health = 50\n",
        "Warrior_strength =80\n",
        "Warrior_agility = 30\n",
        "Warrior_intelligenc = 20\n",
        "Warrior_health = 100\n",
        "bandit_strength =40\n",
        "bandit_agility = 80\n",
        "bandit_intelligence = 30\n",
        "bandit_health = 60\n",
        "Healer_strength =20\n",
        "Healer_agility = 40\n",
        "Healer_intelligence = 70\n",
        "Healer_health = 70"
      ]
    },
    {
      "cell_type": "markdown",
      "metadata": {
        "id": "qZtxHzwcT2vi"
      },
      "source": [
        "<br>\n",
        "\n",
        "__[문제 1: 첫 번째 사냥]__\n",
        "\n",
        "마법사는 몬스터를 사냥하기 위해 마법을 사용합니다.\n",
        "\n",
        "마법을 사용하려면 지능이 50 이상이어야 합니다.\n",
        "\n",
        "마법사의 지능이 50 이상인지 확인하세요."
      ]
    },
    {
      "cell_type": "code",
      "execution_count": null,
      "metadata": {
        "id": "j_5QbavUT2vi",
        "outputId": "145ef305-348b-4f2f-c183-90e882b7d577"
      },
      "outputs": [
        {
          "name": "stdout",
          "output_type": "stream",
          "text": [
            "True\n"
          ]
        }
      ],
      "source": [
        "Wizard_intelligence = 80\n",
        "attack = Wizard_intelligence >= 50\n",
        "print(attack)"
      ]
    },
    {
      "cell_type": "markdown",
      "metadata": {
        "id": "raGfcsNYT2vi"
      },
      "source": [
        "<br>\n",
        "\n",
        "__[문제 2: 두 번째 사냥]__\n",
        "\n",
        "전사는 강력한 공격을 하기 위해 자신의 힘을 사용합니다.\n",
        "\n",
        "전사의 힘이 60 이상이고 체력이 80 이상인지 확인하세요."
      ]
    },
    {
      "cell_type": "code",
      "execution_count": null,
      "metadata": {
        "id": "jbpURdgiT2vi",
        "outputId": "f2004bbe-5682-4de5-bd5e-c171e205253a"
      },
      "outputs": [
        {
          "name": "stdout",
          "output_type": "stream",
          "text": [
            "True\n"
          ]
        }
      ],
      "source": [
        "Warrior_strength =80\n",
        "Warrior_health = 100\n",
        "attack = Warrior_strength >= 60 or Warrior_health >= 80\n",
        "print(attack)\n"
      ]
    },
    {
      "cell_type": "markdown",
      "metadata": {
        "id": "Qw311Zv8T2vj"
      },
      "source": [
        "<br>\n",
        "\n",
        "__[문제 3: 세 번째 사냥]__\n",
        "\n",
        "도적은 민첩함을 이용해 몬스터를 회피하고 공격합니다.\n",
        "\n",
        "도적의 민첩이 70 이상이거나 힘이 50 이상인지 확인하세요."
      ]
    },
    {
      "cell_type": "code",
      "execution_count": null,
      "metadata": {
        "id": "N4Xsy_wZT2vj",
        "outputId": "225da88d-6376-4416-ceb3-caf70b7773e3"
      },
      "outputs": [
        {
          "name": "stdout",
          "output_type": "stream",
          "text": [
            "True\n"
          ]
        }
      ],
      "source": [
        "bandit_agility = 80\n",
        "bandit_strength =40\n",
        "avoid = bandit_agility >= 70 or bandit_strength >= 50\n",
        "print(avoid)"
      ]
    },
    {
      "cell_type": "markdown",
      "metadata": {
        "id": "dVhJS6y8T2vj"
      },
      "source": [
        "<br>\n",
        "\n",
        "__[문제 4: 네 번째 사냥]__\n",
        "\n",
        "힐러는 파티의 체력을 회복시키기 위해 마법을 사용합니다.\n",
        "\n",
        "힐러의 지능이 60 이상이고, 체력이 50 이상인지 확인하세요."
      ]
    },
    {
      "cell_type": "code",
      "execution_count": null,
      "metadata": {
        "id": "Yhcsy34fT2vj",
        "outputId": "ae2475b4-4c66-4b98-8887-8d2b33d85653"
      },
      "outputs": [
        {
          "name": "stdout",
          "output_type": "stream",
          "text": [
            "True\n"
          ]
        }
      ],
      "source": [
        "Healer_intelligence = 70\n",
        "Healer_health = 70\n",
        "recovery = Healer_intelligence >= 60 or Healer_health >= 50\n",
        "print(recovery )"
      ]
    },
    {
      "cell_type": "markdown",
      "metadata": {
        "id": "FH3d_4EVT2vj"
      },
      "source": [
        "<br>\n",
        "\n",
        "__[문제 5: 레벨업]__\n",
        "\n",
        "모든 캐릭터가 사냥을 성공적으로 마쳤습니다. 이제 경험치를 얻어 레벨업을 해야 합니다.\n",
        "\n",
        "\n",
        "각 캐릭터의 경험치가 100 이상인지 print()를 이용해 확인해주세요.\n",
        "\n",
        "<br>\n",
        "\n",
        "경험치는 아래와 같습니다.\n",
        "\n",
        "마법사: 120\n",
        "\n",
        "전사: 150\n",
        "\n",
        "도적: 110\n",
        "\n",
        "힐러: 90\n",
        "\n"
      ]
    },
    {
      "cell_type": "code",
      "execution_count": null,
      "metadata": {
        "id": "tVdSPXA1T2vj"
      },
      "outputs": [],
      "source": [
        "Wizard_experience = 120\n",
        "Warrior_experience = 150\n",
        "Bandit_experience = 110\n",
        "Healer_experience = 90\n"
      ]
    },
    {
      "cell_type": "code",
      "execution_count": null,
      "metadata": {
        "id": "Q3KsvUZuT2vj",
        "outputId": "93049914-83a0-44b9-baca-636a2b9e51c0"
      },
      "outputs": [
        {
          "name": "stdout",
          "output_type": "stream",
          "text": [
            "True\n",
            "True\n",
            "True\n",
            "False\n"
          ]
        }
      ],
      "source": [
        "Wizard_level_up = Wizard_experience >= 100\n",
        "Warrior_level_up = Warrior_experience >= 100\n",
        "Bandit_level_up = Bandit_experience >= 100\n",
        "Healer_level_up = Healer_experience >= 100\n",
        "\n",
        "print(Wizard_level_up)\n",
        "print(Warrior_level_up)\n",
        "print(Bandit_level_up)\n",
        "print(Healer_level_up)"
      ]
    },
    {
      "cell_type": "code",
      "execution_count": null,
      "metadata": {
        "id": "N92Gkj0yT2vk"
      },
      "outputs": [],
      "source": []
    },
    {
      "cell_type": "code",
      "execution_count": null,
      "metadata": {
        "id": "e9W9IVblT2vk"
      },
      "outputs": [],
      "source": []
    }
  ],
  "metadata": {
    "colab": {
      "provenance": [],
      "include_colab_link": true
    },
    "kernelspec": {
      "display_name": "Python 3",
      "name": "python3"
    },
    "language_info": {
      "codemirror_mode": {
        "name": "ipython",
        "version": 3
      },
      "file_extension": ".py",
      "mimetype": "text/x-python",
      "name": "python",
      "nbconvert_exporter": "python",
      "pygments_lexer": "ipython3",
      "version": "3.9.6"
    }
  },
  "nbformat": 4,
  "nbformat_minor": 0
}
