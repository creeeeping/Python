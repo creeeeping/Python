{
  "nbformat": 4,
  "nbformat_minor": 0,
  "metadata": {
    "colab": {
      "provenance": [],
      "authorship_tag": "ABX9TyPLy9cpXqvr41rFT6ckVNIq",
      "include_colab_link": true
    },
    "kernelspec": {
      "name": "python3",
      "display_name": "Python 3"
    },
    "language_info": {
      "name": "python"
    }
  },
  "cells": [
    {
      "cell_type": "markdown",
      "metadata": {
        "id": "view-in-github",
        "colab_type": "text"
      },
      "source": [
        "<a href=\"https://colab.research.google.com/github/creeeeping/Python/blob/main/chapter17.ipynb\" target=\"_parent\"><img src=\"https://colab.research.google.com/assets/colab-badge.svg\" alt=\"Open In Colab\"/></a>"
      ]
    },
    {
      "cell_type": "code",
      "execution_count": null,
      "metadata": {
        "colab": {
          "base_uri": "https://localhost:8080/"
        },
        "id": "O0Z72mk8tuoq",
        "outputId": "c81c53a9-31dd-4721-afa4-50913bda7843"
      },
      "outputs": [
        {
          "output_type": "stream",
          "name": "stdout",
          "text": [
            "양파를 2개를 수확했습니다.\n",
            "대파를 2개를 수확했습니다.\n"
          ]
        }
      ],
      "source": [
        "def 양파():\n",
        "    print(\"양파를 2개를 수확했습니다.\")\n",
        "def 대파():\n",
        "    print(\"대파를 2개를 수확했습니다.\")\n",
        "\n",
        "#함수 호출하기\n",
        "양파()\n",
        "대파()"
      ]
    },
    {
      "cell_type": "code",
      "source": [
        "def 수확():\n",
        "    print(\"올해 비가 많이 왔습니다.\")\n",
        "    print(\"농작물 수확량이 현저히 줄었습니다.\")\n",
        "\n",
        "수확()"
      ],
      "metadata": {
        "colab": {
          "base_uri": "https://localhost:8080/"
        },
        "id": "9jY_iz9Xub30",
        "outputId": "f13c6f16-6958-483e-96b7-178fab92a5c4"
      },
      "execution_count": null,
      "outputs": [
        {
          "output_type": "stream",
          "name": "stdout",
          "text": [
            "올해 비가 많이 왔습니다.\n",
            "농작물 수확량이 현저히 줄었습니다.\n"
          ]
        }
      ]
    },
    {
      "cell_type": "code",
      "source": [
        "def function(x, y):\n",
        "    z = x + y\n",
        "    return z\n",
        "\n",
        "#A등급 10마리, 8등급 9마리\n",
        "print(\"옥수수와 수박의 수확량 :\", function(10,2))"
      ],
      "metadata": {
        "colab": {
          "base_uri": "https://localhost:8080/"
        },
        "id": "hyBVfgX-vFQC",
        "outputId": "52d1300b-d7df-4e9e-85f1-1b9377f4016e"
      },
      "execution_count": null,
      "outputs": [
        {
          "output_type": "stream",
          "name": "stdout",
          "text": [
            "옥수수와 수박의 수확량 : 12\n"
          ]
        }
      ]
    },
    {
      "cell_type": "code",
      "source": [
        "def 수확():\n",
        "    print(\"고라니 2마리를 잡았습니다.\")\n",
        "수확()"
      ],
      "metadata": {
        "colab": {
          "base_uri": "https://localhost:8080/"
        },
        "id": "pvtwPMndv-xL",
        "outputId": "576fb6de-2b77-49de-ccd4-6992f1dc81e6"
      },
      "execution_count": null,
      "outputs": [
        {
          "output_type": "stream",
          "name": "stdout",
          "text": [
            "고라니 2마리를 잡았습니다.\n"
          ]
        }
      ]
    },
    {
      "cell_type": "code",
      "source": [
        "def function(x, y):\n",
        "    z = x + y\n",
        "    print(z)\n",
        "#내용은 출력이되나 리턴에 없으면 반환값이 안나옴\n",
        "#A등급 10마리, 8등급 9마리\n",
        "print(\"옥수수와 수박의 수확량 :\", function(10,2))"
      ],
      "metadata": {
        "colab": {
          "base_uri": "https://localhost:8080/"
        },
        "id": "5kSP4fLbwWaD",
        "outputId": "63929cc0-014d-47fe-e477-c400736bc501"
      },
      "execution_count": null,
      "outputs": [
        {
          "output_type": "stream",
          "name": "stdout",
          "text": [
            "12\n",
            "옥수수와 수박의 수확량 : None\n"
          ]
        }
      ]
    },
    {
      "cell_type": "code",
      "source": [
        "def 계산(가격, 개수):\n",
        "    return 가격 * 개수\n",
        "print(계산(1000, 5), \"원입니다.\")"
      ],
      "metadata": {
        "colab": {
          "base_uri": "https://localhost:8080/"
        },
        "id": "vRC-qjROwn1x",
        "outputId": "d986cf59-43d0-4d56-abd5-ac150bc98b08"
      },
      "execution_count": null,
      "outputs": [
        {
          "output_type": "stream",
          "name": "stdout",
          "text": [
            "5000 원입니다.\n"
          ]
        }
      ]
    },
    {
      "cell_type": "code",
      "source": [
        "def 계산(a, b, c):\n",
        "    합계 = a*1000 + b*500 + c*100\n",
        "    return 합계\n",
        "print(계산(5, 2, 3), \"원입니다.\")"
      ],
      "metadata": {
        "id": "xigfaCv7xoor",
        "colab": {
          "base_uri": "https://localhost:8080/"
        },
        "outputId": "74805440-0686-493c-8dae-33b033330ac7"
      },
      "execution_count": null,
      "outputs": [
        {
          "output_type": "stream",
          "name": "stdout",
          "text": [
            "6300 원입니다.\n"
          ]
        }
      ]
    },
    {
      "cell_type": "code",
      "source": [
        "a = 100\n",
        "def f():\n",
        "    global a\n",
        "    a = a + 1\n",
        "    return a\n",
        "f()"
      ],
      "metadata": {
        "colab": {
          "base_uri": "https://localhost:8080/"
        },
        "id": "3kIs_RKtjbeY",
        "outputId": "50f21528-ffe7-4637-9e7d-3ed532e96360"
      },
      "execution_count": null,
      "outputs": [
        {
          "output_type": "execute_result",
          "data": {
            "text/plain": [
              "101"
            ]
          },
          "metadata": {},
          "execution_count": 8
        }
      ]
    },
    {
      "cell_type": "code",
      "source": [
        "won = [('A등급', 1000), ('B등급', 500), ('C등급', 100)]\n",
        "\n",
        "def 계산(a, b, c):\n",
        "    합계 = dict(won)['A등급']*a + dict(won)['B등급']*b + dict(won)['C등급']*c\n",
        "    return 합계\n",
        "print(계산(5, 2, 3), \"원입니다.\")"
      ],
      "metadata": {
        "colab": {
          "base_uri": "https://localhost:8080/"
        },
        "id": "-XblqeBWkCmx",
        "outputId": "ab833894-a8ea-4cbf-ee46-565b636f6b91"
      },
      "execution_count": null,
      "outputs": [
        {
          "output_type": "stream",
          "name": "stdout",
          "text": [
            "6300 원입니다.\n"
          ]
        }
      ]
    },
    {
      "cell_type": "code",
      "source": [
        "#상수\n",
        "pi_value = 3.14\n",
        "def circle(r, pi_value_input):\n",
        "    z = r*r*pi_value_input\n",
        "    return z\n",
        "result = circle(10, pi_value)\n",
        "print(result)"
      ],
      "metadata": {
        "colab": {
          "base_uri": "https://localhost:8080/"
        },
        "id": "gDtlj5IVmKoH",
        "outputId": "b3c0813f-8eba-406a-92a4-7d1b69ae0638"
      },
      "execution_count": null,
      "outputs": [
        {
          "output_type": "stream",
          "name": "stdout",
          "text": [
            "314.0\n"
          ]
        }
      ]
    },
    {
      "cell_type": "code",
      "source": [
        "A = 0\n",
        "B = 0\n",
        "C = 0\n",
        "유물 = 0\n",
        "def 감자():\n",
        "    global A\n",
        "    A += 1\n",
        "def 양파():\n",
        "    global A, B, C\n",
        "    A+= 3\n",
        "    B+= 3\n",
        "    C+= 4\n",
        "def 옥수수():\n",
        "    global 유물\n",
        "    유물+= 1\n",
        "\n",
        "감자()\n",
        "양파()\n",
        "옥수수()\n",
        "\n",
        "\n",
        "합계 = A + B + C + 유물\n",
        "print(\"오늘 수확한 수확물 :\", 합계)"
      ],
      "metadata": {
        "colab": {
          "base_uri": "https://localhost:8080/"
        },
        "id": "Kojen15aneRV",
        "outputId": "da257f31-594d-4b34-8c58-b21258d62210"
      },
      "execution_count": null,
      "outputs": [
        {
          "output_type": "stream",
          "name": "stdout",
          "text": [
            "오늘 수확한 수확물 : 12\n"
          ]
        }
      ]
    },
    {
      "cell_type": "code",
      "source": [
        "# 지역변수가 전역변수 공부해보기"
      ],
      "metadata": {
        "id": "j4oHojS_pUgn"
      },
      "execution_count": null,
      "outputs": []
    },
    {
      "cell_type": "markdown",
      "source": [
        "def 함수이름1():  \n",
        "    코드  \n",
        "    def 함수이름2():  \n",
        "        코드\n"
      ],
      "metadata": {
        "id": "HScAzGgMpfZv"
      }
    },
    {
      "cell_type": "code",
      "source": [
        "def print_taxt():\n",
        "    taxt = \"콩콩팥팥 수확의 기쁨\"\n",
        "    def txt():\n",
        "        print(taxt)\n",
        "    txt()\n",
        "print_taxt()"
      ],
      "metadata": {
        "colab": {
          "base_uri": "https://localhost:8080/"
        },
        "id": "vGdwC5DtpvHZ",
        "outputId": "303bcff8-4edf-46a9-ae70-b27e233930b4"
      },
      "execution_count": null,
      "outputs": [
        {
          "output_type": "stream",
          "name": "stdout",
          "text": [
            "콩콩팥팥 수확의 기쁨\n"
          ]
        }
      ]
    },
    {
      "cell_type": "code",
      "source": [
        "야채 = {'A등급': 0, 'B등급': 0, 'C등급': 0}\n",
        "\n",
        "def 양파():\n",
        "    야채['A등급'] += 1\n",
        "\n",
        "def 대파():\n",
        "    야채['A등급'] += 3\n",
        "    야채['B등급'] += 3\n",
        "    야채['C등급'] += 4\n",
        "\n",
        "def 쪽파():\n",
        "    야채['C등급'] += 1  # '금' 대신 기존 등급에 더함\n",
        "\n",
        "def 수확철():\n",
        "    양파()\n",
        "    대파()\n",
        "    쪽파()\n",
        "    return 야채\n",
        "\n",
        "결과 = 수확철()\n",
        "print(결과)"
      ],
      "metadata": {
        "colab": {
          "base_uri": "https://localhost:8080/"
        },
        "id": "816mtezpqYmb",
        "outputId": "de524266-ffc5-473e-855b-291dc534fee2"
      },
      "execution_count": null,
      "outputs": [
        {
          "output_type": "stream",
          "name": "stdout",
          "text": [
            "{'A등급': 4, 'B등급': 3, 'C등급': 5}\n"
          ]
        }
      ]
    }
  ]
}