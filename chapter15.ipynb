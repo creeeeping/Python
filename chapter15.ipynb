{
  "nbformat": 4,
  "nbformat_minor": 0,
  "metadata": {
    "colab": {
      "provenance": [],
      "authorship_tag": "ABX9TyPry0NuJzDEtH5TxukvNKwD",
      "include_colab_link": true
    },
    "kernelspec": {
      "name": "python3",
      "display_name": "Python 3"
    },
    "language_info": {
      "name": "python"
    }
  },
  "cells": [
    {
      "cell_type": "markdown",
      "metadata": {
        "id": "view-in-github",
        "colab_type": "text"
      },
      "source": [
        "<a href=\"https://colab.research.google.com/github/creeeeping/Python/blob/main/chapter15.ipynb\" target=\"_parent\"><img src=\"https://colab.research.google.com/assets/colab-badge.svg\" alt=\"Open In Colab\"/></a>"
      ]
    },
    {
      "cell_type": "markdown",
      "source": [
        "###for문 목차\n",
        "    1 . for문 ( 반복문 ) 이란?\n",
        "    2 . for문 문법과 주의사항 ( 콜론, 들여쓰기 )\n",
        "    3 . for문 만들어 보기\n",
        "    4 . for문 작동 원리\n",
        "    5 . for문에서 range() 함수 활용하기\n",
        "    6 . for문에서 시퀀스 객체로 반복하기\n",
        "    7 . 예제로  for문 익혀보기"
      ],
      "metadata": {
        "id": "-UYV5DquwiTT"
      }
    },
    {
      "cell_type": "markdown",
      "source": [
        "## 1 . for문이란?\n",
        "    * 프로그래밍 안에서 반복되는 작업을 간단하게 처리하기 위해서 사용하는기능\n",
        "## 2 . for문 문법과 주의사항 ( 콜론, 들여쓰기 )\n",
        "    * 특정 동작을 위해 코드가 모여있는 상태인 코드 블록 python은 들여쓰기를 기준으로 코드블록을 구성\n",
        "    * for 동물 in (\"토끼\", \"사자\", \"푸바오\", 호랑이\"):\n",
        "                        print(\"동물\")  \n",
        "    코드블럭\n",
        "                        print(\"보러갈래요?\")                      "
      ],
      "metadata": {
        "id": "4HwBnjVpxU9_"
      }
    },
    {
      "cell_type": "code",
      "source": [
        "# for문으로 만들어보기\n",
        "# for 변수 in range(횟수)\n",
        "#   print()"
      ],
      "metadata": {
        "id": "bpZb_SneydUq"
      },
      "execution_count": null,
      "outputs": []
    },
    {
      "cell_type": "code",
      "source": [
        "# 3 . for문으로 만들어보기\n",
        "for i in range(5):\n",
        "  print(\"반복되네 오 개쩌러\")"
      ],
      "metadata": {
        "colab": {
          "base_uri": "https://localhost:8080/"
        },
        "id": "H1PjHzAhyseb",
        "outputId": "78826845-c07f-4ded-aea3-a2b04f2e963f"
      },
      "execution_count": null,
      "outputs": [
        {
          "output_type": "stream",
          "name": "stdout",
          "text": [
            "반복되네 오 개쩌러\n",
            "반복되네 오 개쩌러\n",
            "반복되네 오 개쩌러\n",
            "반복되네 오 개쩌러\n",
            "반복되네 오 개쩌러\n"
          ]
        }
      ]
    },
    {
      "cell_type": "code",
      "source": [
        "# 4 . for문의 흐름 확인해보기\n",
        "# range => 숫자 => i로(루프인덱스) 호출(0) => for문 => 반복\n",
        "for i in range(5):\n",
        "  print(\"반복되네 오 개쩌러\", i)"
      ],
      "metadata": {
        "colab": {
          "base_uri": "https://localhost:8080/"
        },
        "id": "BQhQOKcJy7X3",
        "outputId": "fa576c25-4233-4469-93e5-a83d0c997f7d"
      },
      "execution_count": null,
      "outputs": [
        {
          "output_type": "stream",
          "name": "stdout",
          "text": [
            "반복되네 오 개쩌러 0\n",
            "반복되네 오 개쩌러 1\n",
            "반복되네 오 개쩌러 2\n",
            "반복되네 오 개쩌러 3\n",
            "반복되네 오 개쩌러 4\n"
          ]
        }
      ]
    },
    {
      "cell_type": "code",
      "source": [
        "# 5 . for문에서 range()함수 활용하기\n",
        "# 끝은 출력을 원하는거보다 항상 하나더 많게\n",
        "# 슬라이싱할떄 끝에 숫자를 더 적으면 적은 수많큼 증가\n",
        "# 끝에 -1을 적으면 역순\n",
        "\n",
        "#for i in range(4,10):\n",
        "#   print(i)\n",
        "\n",
        "#for i in range(4,10,2):\n",
        "#   print(i)\n",
        "\n",
        "#for i in range(10,-1):\n",
        "#   print(i)\n",
        "\n",
        "\n"
      ],
      "metadata": {
        "colab": {
          "base_uri": "https://localhost:8080/"
        },
        "id": "CGCI6TCozqjX",
        "outputId": "66045e73-2262-452f-bea6-9d8e64999094"
      },
      "execution_count": null,
      "outputs": [
        {
          "output_type": "stream",
          "name": "stdout",
          "text": [
            "0\n",
            "1\n",
            "2\n",
            "3\n",
            "4\n",
            "5\n",
            "6\n",
            "7\n",
            "8\n",
            "9\n"
          ]
        }
      ]
    },
    {
      "cell_type": "code",
      "source": [
        "# 6 . for문에서 시퀀스 객체로 반복하기\n",
        "과일 = [\"두리안\", \"망고\", \"바나나\", \"멜론\"]\n",
        "\n",
        "#for i in 과일:\n",
        "#   print(i)\n",
        "\n",
        "# 가로로 그대로 출력하고싶으면 (i, and='')\n",
        "#for i in \"닥스훈트\":\n",
        "#   print(i)\n",
        "\n",
        "# 반대로\n",
        "#for i in reversed(\"닥스훈트\"):\n",
        "#   print(i)"
      ],
      "metadata": {
        "colab": {
          "base_uri": "https://localhost:8080/"
        },
        "id": "IhVtLlih02xM",
        "outputId": "f3000577-6699-45f1-9181-9ea154ba594a"
      },
      "execution_count": null,
      "outputs": [
        {
          "output_type": "stream",
          "name": "stdout",
          "text": [
            "트\n",
            "훈\n",
            "스\n",
            "닥\n"
          ]
        }
      ]
    },
    {
      "cell_type": "code",
      "source": [
        "# 7 . 예제로 for문 힉혀보기\n",
        "\n",
        "# 문제 절대값 정수가 담긴 정수 변수와 그 정수의 부호를 차례로 담은 부로 변수가 있다.\n",
        "# 두 변수를 이용해 실제 정수의 합을 구해주세요 ( True : 양수 , False : 음수 )\n",
        "\n",
        "정수 = [10, 5, 8]\n",
        "부호 = [True, False, True]\n",
        "\n",
        "합 = 0\n",
        "\n",
        "for k, v in zip(부호, 정수):\n",
        "    if k:\n",
        "        합 += v\n",
        "    else:\n",
        "        합 -= v\n",
        "print(f'총 합은{합}입니다.')"
      ],
      "metadata": {
        "colab": {
          "base_uri": "https://localhost:8080/"
        },
        "id": "6mvOyBId2dzC",
        "outputId": "03afdd7c-51de-4583-f259-50dcd4f3bd62"
      },
      "execution_count": null,
      "outputs": [
        {
          "output_type": "stream",
          "name": "stdout",
          "text": [
            "총 합은13입니다.\n"
          ]
        }
      ]
    },
    {
      "cell_type": "code",
      "source": [],
      "metadata": {
        "id": "_sx8hC2a5D9b"
      },
      "execution_count": null,
      "outputs": []
    }
  ]
}