{
  "nbformat": 4,
  "nbformat_minor": 0,
  "metadata": {
    "colab": {
      "provenance": [],
      "authorship_tag": "ABX9TyPNMMaFVJYDzIxSVeN1Jg7p",
      "include_colab_link": true
    },
    "kernelspec": {
      "name": "python3",
      "display_name": "Python 3"
    },
    "language_info": {
      "name": "python"
    }
  },
  "cells": [
    {
      "cell_type": "markdown",
      "metadata": {
        "id": "view-in-github",
        "colab_type": "text"
      },
      "source": [
        "<a href=\"https://colab.research.google.com/github/creeeeping/Python/blob/main/chapter14.ipynb\" target=\"_parent\"><img src=\"https://colab.research.google.com/assets/colab-badge.svg\" alt=\"Open In Colab\"/></a>"
      ]
    },
    {
      "cell_type": "markdown",
      "source": [
        "### if문 목차\n",
        "\n",
        "    1. if문이란? ( if문의 기능 설명 )\n",
        "    2. if문 문법과 주의사항 ( 콜론, 들여쓰기 )\n",
        "    3. if문의 흐름 ( 작동 원리 )\n",
        "    4. if 중첩문\n",
        "    5. if ~ else문법과 주의사항 ( 콤마, 들여쓰기 )\n",
        "    6. if ~ else문 흐름 ( 작동 원리 )\n",
        "    7. 조건문 조건 ( True, False )\n",
        "    8. 조건식 여러개 설정하기\n",
        "    9. elif ~ if문\n",
        "    10. 예제로 if문 익혀보기"
      ],
      "metadata": {
        "id": "UP4gv1-TfRrD"
      }
    },
    {
      "cell_type": "markdown",
      "source": [
        "## 1 . if문이란 ?\n",
        "    * 특정 조건일떄 코드를 실행하는 문법\n"
      ],
      "metadata": {
        "id": "tWbLoKyYgOK2"
      }
    },
    {
      "cell_type": "code",
      "source": [
        "# 2 . if문 문법과 주의사항 ( 콜론, 들여쓰기 )\n",
        "개수 = int(input(\"붕어빵 몇개 사실껀가요?\"))\n",
        "\n",
        "if 개수 > 3:\n",
        "    print(\"개당 1800원 입니다.\")"
      ],
      "metadata": {
        "colab": {
          "base_uri": "https://localhost:8080/"
        },
        "id": "6sdOwOHegKql",
        "outputId": "501c281c-abdb-497c-9f2a-76260eb5f27f"
      },
      "execution_count": 2,
      "outputs": [
        {
          "output_type": "stream",
          "name": "stdout",
          "text": [
            "붕어빵 몇개 사실껀가요?4\n",
            "개당 1800원 입니다.\n"
          ]
        }
      ]
    },
    {
      "cell_type": "code",
      "source": [
        "# 3 . if문의 흐름 ( 작동 원리 )\n",
        "# 코드는 위에서 아래 순서대로 작동합니다.\n",
        "# 1) 입력을 받음\n",
        "# 2) 개수라는 변수에 받음\n",
        "개수 = int(input(\"붕어빵 몇개 사실껀가요?\"))\n",
        "# 3) 개수 변수가 있는지 값은 몇인지 4 > 3 True 또는 False\n",
        "if 개수 > 3:\n",
        "    print(\"개당 1800원 입니다.\")\n",
        "# 4) 조건이 True이므로 if문 안에 코드가 실행\n",
        "if 개수 <= 3:\n",
        "    print(\"개당 2000원 입니다.\")\n"
      ],
      "metadata": {
        "colab": {
          "base_uri": "https://localhost:8080/"
        },
        "id": "iHZ8n04fhT1O",
        "outputId": "187c46e4-668c-45d0-8b71-c1760d61624a"
      },
      "execution_count": 4,
      "outputs": [
        {
          "output_type": "stream",
          "name": "stdout",
          "text": [
            "붕어빵 몇개 사실껀가요?3\n",
            "개당 2000원 입니다.\n"
          ]
        }
      ]
    },
    {
      "cell_type": "code",
      "source": [
        "# 4 . if 중첩문\n",
        "의문의_숫자 = 10\n",
        "if 의문의_숫자 > 5 : #True\n",
        "    if 의문의_숫자 < 15 : #False\n",
        "        print(\"5보다 크고 15보다 작습니다.\")\n"
      ],
      "metadata": {
        "colab": {
          "base_uri": "https://localhost:8080/"
        },
        "id": "DiFvePSbiOmK",
        "outputId": "600f50ad-7917-4a62-ba79-33f442b9787b"
      },
      "execution_count": 6,
      "outputs": [
        {
          "output_type": "stream",
          "name": "stdout",
          "text": [
            "5보다 크고 15보다 작습니다.\n"
          ]
        }
      ]
    },
    {
      "cell_type": "code",
      "source": [
        "# 5 . if ~ else문법과 주의사항 ( 콜론, 들여쓰기 )\n",
        "# True 일때는 if문 안에 작성한 코드가 실행합니다.\n",
        "#False 일때는 else문 안에 작성한 코드가 실행합니다.\n",
        "개수 = int(input(\"붕어빵 몇개 사실껀가요?\"))\n",
        "if 개수 > 3:\n",
        "    print(\"개당 1800원 입니다.\")\n",
        "else:\n",
        "    print(\"개당 2000원 입니다.\")"
      ],
      "metadata": {
        "colab": {
          "base_uri": "https://localhost:8080/"
        },
        "id": "OuPSG7Mqixfb",
        "outputId": "897d8543-50e6-4831-a541-091cebb103be"
      },
      "execution_count": 7,
      "outputs": [
        {
          "output_type": "stream",
          "name": "stdout",
          "text": [
            "붕어빵 몇개 사실껀가요?3\n",
            "개당 2000원 입니다.\n"
          ]
        }
      ]
    },
    {
      "cell_type": "code",
      "source": [
        "# 6 . if ~ else문의흐름 ( 작동 원리 )\n",
        "개수 = int(input(\"붕어빵 몇개 사실껀가요?\"))\n",
        "if 개수 > 3:\n",
        "    print(\"개당 1800원 입니다.\")\n",
        "else:\n",
        "    print(\"개당 2000원 입니다.\")"
      ],
      "metadata": {
        "colab": {
          "base_uri": "https://localhost:8080/"
        },
        "id": "d4Ng1M5vjN6I",
        "outputId": "8a22f6b4-eab3-455d-8d36-e156b6667fad"
      },
      "execution_count": 9,
      "outputs": [
        {
          "output_type": "stream",
          "name": "stdout",
          "text": [
            "붕어빵 몇개 사실껀가요?4\n",
            "개당 1800원 입니다.\n"
          ]
        }
      ]
    },
    {
      "cell_type": "code",
      "source": [
        "# 7 . 조건문의 조건 ( True ,False )\n",
        "# True\n",
        "if True:\n",
        "    print(True)\n",
        "else:\n",
        "    print(Flase)\n",
        "\n",
        "# False\n",
        "if False:\n",
        "    print(True)\n",
        "else:\n",
        "    print(False)\n",
        " # none\n",
        "if None:\n",
        "    print(True)\n",
        "else:\n",
        "    print(False)\n",
        "# 0\n",
        "if 0:\n",
        "    print(True)\n",
        "else:\n",
        "    print(False)\n",
        "# 1\n",
        "if 1:\n",
        "    print(True)\n",
        "else:\n",
        "    print(False)\n",
        "# 1.1\n",
        "if 1.1:\n",
        "    print(True)\n",
        "else:\n",
        "    print(False)\n",
        "# 모든 문자열은 True\n",
        "# hello\n",
        "if 'hello':\n",
        "    print(True)\n",
        "else:\n",
        "    print(False)\n",
        "# ' '\n",
        "if ' ':\n",
        "    print(True)\n",
        "else:\n",
        "    print(False)\n",
        "#not\n",
        "# not\n",
        "if not True:\n",
        "    print(True)\n",
        "else:\n",
        "    print(False)\n",
        "# not''\n",
        "if not'':\n",
        "    print(True)\n",
        "else:\n",
        "    print(False)"
      ],
      "metadata": {
        "colab": {
          "base_uri": "https://localhost:8080/"
        },
        "id": "mWcbSPN9j2P5",
        "outputId": "78a55f72-9d5d-4ffc-ef5d-9f40e1838d81"
      },
      "execution_count": 33,
      "outputs": [
        {
          "output_type": "stream",
          "name": "stdout",
          "text": [
            "True\n",
            "False\n",
            "False\n",
            "False\n",
            "True\n",
            "True\n",
            "True\n",
            "True\n",
            "False\n",
            "True\n"
          ]
        }
      ]
    },
    {
      "cell_type": "code",
      "source": [
        "# 8 . 조건식 여러개 설정하기\n",
        "a, b = 10, 30\n",
        "\n",
        "if a==10 and b == 30:\n",
        "    print(\"동일합니다.\")\n",
        "else:\n",
        "    print(\"동일하지 않습니다.\")\n",
        "\n",
        "if a==10 or b == 30:\n",
        "    print(\"동일합니다.\")\n",
        "else:\n",
        "    print(\"동일하지 않습니다.\")\n",
        "\n",
        "if a== 10 and a <20:\n",
        "    print(\"10보다 크고 20보다 작습니다.\")\n",
        "if 10 <= a< 20:\n",
        "    print(\"10보다 크고 20보다 작습니다.\")\n"
      ],
      "metadata": {
        "colab": {
          "base_uri": "https://localhost:8080/"
        },
        "id": "UTDhcaVPmemX",
        "outputId": "137557de-1f14-416d-fd21-70fbacbd2ef0"
      },
      "execution_count": 38,
      "outputs": [
        {
          "output_type": "stream",
          "name": "stdout",
          "text": [
            "동일합니다.\n",
            "동일합니다.\n",
            "10보다 크고 20보다 작습니다.\n",
            "10보다 크고 20보다 작습니다.\n"
          ]
        }
      ]
    },
    {
      "cell_type": "code",
      "source": [
        "# 9.elif ~ if문\n",
        "맛 = input(\"붕어빵 맛을 골라주세요(팥, 슈크림, 잡채)\")\n",
        "if 맛 == \"팥\":\n",
        "    print(f'{맛}을 선택하였습니다.')\n",
        "elif 맛 == \"슈크림\":\n",
        "    print(f'{맛}을 선택하였습니다.')\n",
        "elif 맛 == \"잡채\":\n",
        "    print(f'{맛}을 선택하였습니다.')"
      ],
      "metadata": {
        "colab": {
          "base_uri": "https://localhost:8080/"
        },
        "id": "eHsQZIM4njid",
        "outputId": "566e88da-2c4b-4a2a-f166-099d5a12f44e"
      },
      "execution_count": 39,
      "outputs": [
        {
          "output_type": "stream",
          "name": "stdout",
          "text": [
            "붕어빵 맛을 골라주세요(팥, 슈크림, 잡채)잡채\n",
            "잡채을 선택하였습니다.\n"
          ]
        }
      ]
    },
    {
      "cell_type": "code",
      "source": [
        "# 10. 예제로 if문 익혀보기\n",
        "# 문제 : 단어 a의 가운데 글자를 반환하는 코드\n",
        "# 조건 : 단어의 길이가 짝수라면 가운데 두글자를 출력하면 됩니다.\n",
        "\n",
        "# 입력값 1 : \"abcde\" => c\n",
        "# 입력값 2 : \"qwer\" => we\n",
        "a = input()\n",
        "# 코드를 작성해주세요\n",
        "# len으로 인덱스의 개수를 파악한뒤 나눠주고 int로 형 변환해서 소수자리를 버리고 정수만 남긴다.\n",
        "가운데_인덱스 = int(len(a) / 2 )\n",
        "\n",
        "if len(a) % 2 != 0 :\n",
        "    print(a[가운데_인덱스])\n",
        "else:\n",
        "    print(a[가운데_인덱스])\n",
        "# 슬라이싱 이용\n",
        "가운데_인덱스 = int(len(a) / 2 )\n",
        "\n",
        "if len(a) % 2 != 0 :\n",
        "    print(a[가운데_인덱스])\n",
        "else:\n",
        "    print(a[가운데_인덱스-1 : 가운데_인덱스+1])\n",
        "\n"
      ],
      "metadata": {
        "colab": {
          "base_uri": "https://localhost:8080/"
        },
        "id": "3NoiySrWoSUa",
        "outputId": "3d616b3a-ad80-411e-da96-3d4a4db2deaf"
      },
      "execution_count": 50,
      "outputs": [
        {
          "output_type": "stream",
          "name": "stdout",
          "text": [
            "qwer\n",
            "e\n",
            "we\n"
          ]
        }
      ]
    }
  ]
}