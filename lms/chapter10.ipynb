{
  "nbformat": 4,
  "nbformat_minor": 0,
  "metadata": {
    "colab": {
      "provenance": [],
      "authorship_tag": "ABX9TyOOg8/x5XGNgsUd1j7KNyRM",
      "include_colab_link": true
    },
    "kernelspec": {
      "name": "python3",
      "display_name": "Python 3"
    },
    "language_info": {
      "name": "python"
    }
  },
  "cells": [
    {
      "cell_type": "markdown",
      "metadata": {
        "id": "view-in-github",
        "colab_type": "text"
      },
      "source": [
        "<a href=\"https://colab.research.google.com/github/creeeeping/Python/blob/main/chapter10.ipynb\" target=\"_parent\"><img src=\"https://colab.research.google.com/assets/colab-badge.svg\" alt=\"Open In Colab\"/></a>"
      ]
    },
    {
      "cell_type": "markdown",
      "source": [
        "###list\n",
        "\n",
        "*list란? 원소들이 연속적으로 저장되는 형태의 자료형을 말합니다  \n",
        "*시퀀스 자료형  \n",
        "    *str() .list() .tuple .dict .set  \n",
        "*만드는 방법은 쉽다. 대괄호로 묶어주고. 값들은 콤마로 구분한다.    "
      ],
      "metadata": {
        "id": "fEBwAGZta1sy"
      }
    },
    {
      "cell_type": "code",
      "execution_count": null,
      "metadata": {
        "colab": {
          "base_uri": "https://localhost:8080/"
        },
        "id": "FrkN5jdqahpM",
        "outputId": "a2e6d8b0-3f75-4ebc-a4e2-f88a8b84807e"
      },
      "outputs": [
        {
          "output_type": "stream",
          "name": "stdout",
          "text": [
            "[]\n",
            "[23, '이게 리스트다', 3.23, True, False]\n"
          ]
        }
      ],
      "source": [
        "리스트 = []\n",
        "print(리스트)\n",
        "\n",
        "리스트 = [23 ,\"이게 리스트다\" ,3.23 ,True ,False]\n",
        "print(리스트)"
      ]
    },
    {
      "cell_type": "code",
      "source": [
        "# 리스트 다시 한번 선언해 보자\n",
        "#list = int() . float() 형변환도 가능\n",
        "리스트 = [\"이\" , \"렇\" , \"게\" , \"만\" , \"들\" , \"아\" , \"요\"]\n",
        "리스트\n",
        "리스트2 = list()\n",
        "리스트2\n",
        "\n",
        "#range : 연속된 숫자를 생산하는 기능\n",
        "range(10)\n",
        "\n",
        "#list(range(시작, 끝))\n",
        "리스트_매직_들어간다 = list(range(0,20))\n",
        "리스트_매직_들어간다"
      ],
      "metadata": {
        "colab": {
          "base_uri": "https://localhost:8080/"
        },
        "id": "AmQEWPbscExw",
        "outputId": "abe56cee-39f2-4438-ae33-22ead79f8a5f"
      },
      "execution_count": null,
      "outputs": [
        {
          "output_type": "execute_result",
          "data": {
            "text/plain": [
              "[0, 1, 2, 3, 4, 5, 6, 7, 8, 9, 10, 11, 12, 13, 14, 15, 16, 17, 18, 19]"
            ]
          },
          "metadata": {},
          "execution_count": 12
        }
      ]
    },
    {
      "cell_type": "code",
      "source": [
        "#list(range(시작, 끝 ,증가))\n",
        "리스트_매직2 = list(range(0,20,2))\n",
        "print(리스트_매직2)\n",
        "\n",
        "리스트_매직3 = list(range(20,0,-1))\n",
        "print(리스트_매직3)\n",
        "\n",
        "리스트_매직4 = list(range(20,0))\n",
        "print(리스트_매직4)\n",
        "\n"
      ],
      "metadata": {
        "colab": {
          "base_uri": "https://localhost:8080/"
        },
        "id": "2n_7Twz0cMP4",
        "outputId": "6ac5fdf6-08c0-4491-f67e-4b0922ecd5be"
      },
      "execution_count": null,
      "outputs": [
        {
          "output_type": "stream",
          "name": "stdout",
          "text": [
            "[0, 2, 4, 6, 8, 10, 12, 14, 16, 18]\n",
            "[20, 19, 18, 17, 16, 15, 14, 13, 12, 11, 10, 9, 8, 7, 6, 5, 4, 3, 2, 1]\n",
            "[]\n"
          ]
        }
      ]
    },
    {
      "cell_type": "code",
      "source": [
        "# 끝나지 않는 리스트 매직\n",
        "# 리스트를 이용해 변수에 값 넣기\n",
        "\n",
        "a, b, c = [\"들\", \"어\", \"가\"]\n",
        "print(a,b,c)\n",
        "\n",
        "d, e, f = [\"7\" ,\"7\" ,\"8\"]\n",
        "print(d,e,f)\n",
        "\n",
        "지갑 = [10000 ,5000 ,1000]\n",
        "만원 ,오천원 ,천원 = 지갑\n",
        "print(f'{만원} 2장 , {오천원} 3장, {천원} 1장')"
      ],
      "metadata": {
        "colab": {
          "base_uri": "https://localhost:8080/"
        },
        "id": "TbrkBu2xeDxr",
        "outputId": "c4f6c809-4386-4260-e94b-dc1972242955"
      },
      "execution_count": null,
      "outputs": [
        {
          "output_type": "stream",
          "name": "stdout",
          "text": [
            "들 어 가\n",
            "7 7 8\n",
            "10000 2장 , 5000 3장, 1000 1장\n"
          ]
        }
      ]
    },
    {
      "cell_type": "code",
      "source": [
        "# 리스트 패킹, 리스트 언패킹\n",
        "input() .split()"
      ],
      "metadata": {
        "colab": {
          "base_uri": "https://localhost:8080/"
        },
        "id": "V9lP5HtlisKe",
        "outputId": "25c7b1aa-6412-41cb-885f-57c8e6f35cf8"
      },
      "execution_count": null,
      "outputs": [
        {
          "name": "stdout",
          "output_type": "stream",
          "text": [
            "기억?. 나요?\n"
          ]
        },
        {
          "output_type": "execute_result",
          "data": {
            "text/plain": [
              "['기억?.', '나요?']"
            ]
          },
          "metadata": {},
          "execution_count": 28
        }
      ]
    },
    {
      "cell_type": "code",
      "source": [
        "# 슬라이싱\n",
        "\n",
        "로또 = [3, 5, 15, 33, 41, 44]\n",
        "#로또 변수에 있는 리스트의 인덱스 1번부터 2번까지의 값을 출력하시오 !\n",
        "\n",
        "#로또 변수의 마지막 위치 출력을 하시오 !\n",
        "\n",
        "#반대로 출력하시오 !\n",
        "\n",
        "#로또 리스트안에 33이 있는지 확인해보세요  !\n",
        "\n",
        "#로또 리스트를 로또2 리스트와 합쳐보세요  !\n",
        "로또2 = [2, 22, 15, 24, 33, 39]\n",
        "\n",
        "#range를 이용해서 1부터 10사이에 짝수만 들어있는 짝수(변수명) 리스트를 만들어주세요  !\n",
        "\n",
        "#짝수 리스트에 들어있는 값을 2배로 늘리고 다시 짝수 변수에 담으시오  !\n",
        "\n",
        "#짝수 리스트에 들어있는 요소의 개수를 구하시오  !\n",
        "\n",
        "#짝수 리스트에 3번째의 인덱스를 출력해주세요\n",
        "\n",
        "#len()함수를 이용해 인덱스 마지막 값을 출력해주세요  !"
      ],
      "metadata": {
        "id": "p_sNtdM2jEi-"
      },
      "execution_count": 3,
      "outputs": []
    },
    {
      "cell_type": "code",
      "source": [
        "print(로또[1:3])\n",
        "\n",
        "print(로또[-1])\n",
        "\n",
        "print(로또[::-1])\n",
        "\n",
        "print(33 in 로또)\n",
        "\n",
        "print(로또 + 로또2)\n",
        "\n",
        "짝수 = list(range(2,12,2))\n",
        "print(짝수)\n",
        "\n",
        "짝수 = 짝수 * 2\n",
        "print(짝수)\n",
        "\n",
        "print(len(짝수))\n",
        "\n",
        "print(짝수[3])\n",
        "\n",
        "print(짝수[len(짝수) - 1])"
      ],
      "metadata": {
        "colab": {
          "base_uri": "https://localhost:8080/"
        },
        "id": "KRhDYqKIkptj",
        "outputId": "d1ac6ccd-35dc-41e1-fb1f-d6002a09bce5"
      },
      "execution_count": 4,
      "outputs": [
        {
          "output_type": "stream",
          "name": "stdout",
          "text": [
            "[5, 15]\n",
            "44\n",
            "[44, 41, 33, 15, 5, 3]\n",
            "True\n",
            "[3, 5, 15, 33, 41, 44, 2, 22, 15, 24, 33, 39]\n",
            "[2, 4, 6, 8, 10]\n",
            "[2, 4, 6, 8, 10, 2, 4, 6, 8, 10]\n",
            "10\n",
            "8\n",
            "10\n"
          ]
        }
      ]
    },
    {
      "cell_type": "code",
      "source": [
        "# list 값 넣고, 바꾸고, 지우고\n",
        "\n",
        "sexyfood = [\"육회\", \"물회\", \"떡볶이\", \"비빔밥\", \"오꼬노미야끼\", \"야미야미\"]\n",
        "# 값을 넣는 방법 2가지\n",
        "# append() : 마지막에 요소 값을 넣는다.\n",
        "# insert() : 원하는곳에 값을 넣는다.\n",
        "\n",
        "sexyfood.append(\"마라탕\")\n",
        "print(sexyfood)\n",
        "\n",
        "sexyfood.insert(0, \"짜장면\")\n",
        "print(sexyfood)\n",
        "\n",
        "# 값을 지우는법 : del\n",
        "\n",
        "del sexyfood[-1]\n",
        "print(sexyfood)\n",
        "\n",
        "# 값을 바꾸는법\n",
        "\n",
        "sexyfood[-2] = \"냠냠\"\n",
        "print(sexyfood)\n",
        "\n",
        "# 문자열 시퀀스 아니냐 그럼 저거다 될듯\n",
        "#인사 = \"반가워\"\n",
        "#인사[2] = \"웡\""
      ],
      "metadata": {
        "id": "AZQCOg9woYO9",
        "colab": {
          "base_uri": "https://localhost:8080/",
          "height": 287
        },
        "outputId": "252ae9dd-65e2-4702-8277-5767cdc8efc3"
      },
      "execution_count": 24,
      "outputs": [
        {
          "output_type": "stream",
          "name": "stdout",
          "text": [
            "['육회', '물회', '떡볶이', '비빔밥', '오꼬노미야끼', '야미야미', '마라탕']\n",
            "['짜장면', '육회', '물회', '떡볶이', '비빔밥', '오꼬노미야끼', '야미야미', '마라탕']\n",
            "['짜장면', '육회', '물회', '떡볶이', '비빔밥', '오꼬노미야끼', '야미야미']\n",
            "['짜장면', '육회', '물회', '떡볶이', '비빔밥', '냠냠', '야미야미']\n"
          ]
        },
        {
          "output_type": "error",
          "ename": "TypeError",
          "evalue": "'str' object does not support item assignment",
          "traceback": [
            "\u001b[0;31m---------------------------------------------------------------------------\u001b[0m",
            "\u001b[0;31mTypeError\u001b[0m                                 Traceback (most recent call last)",
            "\u001b[0;32m/tmp/ipython-input-3788223843.py\u001b[0m in \u001b[0;36m<cell line: 0>\u001b[0;34m()\u001b[0m\n\u001b[1;32m     24\u001b[0m \u001b[0;31m# 문자열 시퀀스 아니냐 그럼 저거다 될듯\u001b[0m\u001b[0;34m\u001b[0m\u001b[0;34m\u001b[0m\u001b[0m\n\u001b[1;32m     25\u001b[0m \u001b[0m인사\u001b[0m \u001b[0;34m=\u001b[0m \u001b[0;34m\"반가워\"\u001b[0m\u001b[0;34m\u001b[0m\u001b[0;34m\u001b[0m\u001b[0m\n\u001b[0;32m---> 26\u001b[0;31m \u001b[0m인사\u001b[0m\u001b[0;34m[\u001b[0m\u001b[0;36m2\u001b[0m\u001b[0;34m]\u001b[0m \u001b[0;34m=\u001b[0m \u001b[0;34m\"웡\"\u001b[0m\u001b[0;34m\u001b[0m\u001b[0;34m\u001b[0m\u001b[0m\n\u001b[0m",
            "\u001b[0;31mTypeError\u001b[0m: 'str' object does not support item assignment"
          ]
        }
      ]
    },
    {
      "cell_type": "code",
      "source": [
        "print(dir(list))"
      ],
      "metadata": {
        "colab": {
          "base_uri": "https://localhost:8080/"
        },
        "id": "Aahkhe8rYEmt",
        "outputId": "7a52407f-77b8-4669-bd38-4dc12e6b2f74"
      },
      "execution_count": 25,
      "outputs": [
        {
          "output_type": "stream",
          "name": "stdout",
          "text": [
            "['__add__', '__class__', '__class_getitem__', '__contains__', '__delattr__', '__delitem__', '__dir__', '__doc__', '__eq__', '__format__', '__ge__', '__getattribute__', '__getitem__', '__getstate__', '__gt__', '__hash__', '__iadd__', '__imul__', '__init__', '__init_subclass__', '__iter__', '__le__', '__len__', '__lt__', '__mul__', '__ne__', '__new__', '__reduce__', '__reduce_ex__', '__repr__', '__reversed__', '__rmul__', '__setattr__', '__setitem__', '__sizeof__', '__str__', '__subclasshook__', 'append', 'clear', 'copy', 'count', 'extend', 'index', 'insert', 'pop', 'remove', 'reverse', 'sort']\n"
          ]
        }
      ]
    },
    {
      "cell_type": "code",
      "source": [
        "# 순서 뒤바꾸기\n",
        "\n",
        "print(sexyfood)\n",
        "\n",
        "sexyfood.reverse()\n",
        "print(sexyfood)\n",
        "\n",
        "# 오름차순으로 바꾸기\n",
        "\n",
        "sexyfood.sort()\n",
        "print(sexyfood)\n",
        "\n"
      ],
      "metadata": {
        "colab": {
          "base_uri": "https://localhost:8080/"
        },
        "id": "0GUyU9HJYPb6",
        "outputId": "fd7f5e2b-f8a1-4c44-ee73-a9143034590c"
      },
      "execution_count": 28,
      "outputs": [
        {
          "output_type": "stream",
          "name": "stdout",
          "text": [
            "['짜장면', '육회', '물회', '떡볶이', '비빔밥', '냠냠', '야미야미']\n",
            "['야미야미', '냠냠', '비빔밥', '떡볶이', '물회', '육회', '짜장면']\n",
            "['냠냠', '떡볶이', '물회', '비빔밥', '야미야미', '육회', '짜장면']\n"
          ]
        }
      ]
    },
    {
      "cell_type": "code",
      "source": [
        "# 왜 print문을 쓰면 none이 나올까 생각해보기\n",
        "# reverse 와 sort 는 리스트 순서를 바꾸는것이므로 리턴값이 없다.\n",
        "print(sexyfood)\n",
        "print(sexyfood.reverse())\n",
        "print(sexyfood.sort())"
      ],
      "metadata": {
        "colab": {
          "base_uri": "https://localhost:8080/"
        },
        "id": "shI0XhICY9j7",
        "outputId": "028b3800-1b11-493a-e8a7-f382f408de2b"
      },
      "execution_count": 29,
      "outputs": [
        {
          "output_type": "stream",
          "name": "stdout",
          "text": [
            "['냠냠', '떡볶이', '물회', '비빔밥', '야미야미', '육회', '짜장면']\n",
            "None\n",
            "None\n"
          ]
        }
      ]
    },
    {
      "cell_type": "code",
      "source": [
        "# 2차원 리스트에 대해서도 공부는 필수\n",
        "\n",
        "\n",
        "양파같은 = [[ 2 , 0 ] , [ 3 , 1 ]]\n",
        "양파같은\n",
        "\n",
        "양파같은[0]\n",
        "양파같은[1]\n",
        "# 3을 출력해줘\n",
        "양파같은[1][0]\n",
        "\n",
        "양파같은.append([4.1])\n",
        "양파같은"
      ],
      "metadata": {
        "colab": {
          "base_uri": "https://localhost:8080/"
        },
        "id": "qxixfCB3Zrhg",
        "outputId": "1c899741-e2b5-4e20-9e5d-4e0bd1509278"
      },
      "execution_count": 39,
      "outputs": [
        {
          "output_type": "execute_result",
          "data": {
            "text/plain": [
              "[[2, 0], [3, 1], [4.1]]"
            ]
          },
          "metadata": {},
          "execution_count": 39
        }
      ]
    }
  ]
}
