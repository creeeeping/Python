{
  "nbformat": 4,
  "nbformat_minor": 0,
  "metadata": {
    "colab": {
      "provenance": [],
      "authorship_tag": "ABX9TyPnTCZqN95+lCbg7bjUeCsm",
      "include_colab_link": true
    },
    "kernelspec": {
      "name": "python3",
      "display_name": "Python 3"
    },
    "language_info": {
      "name": "python"
    }
  },
  "cells": [
    {
      "cell_type": "markdown",
      "metadata": {
        "id": "view-in-github",
        "colab_type": "text"
      },
      "source": [
        "<a href=\"https://colab.research.google.com/github/creeeeping/Python/blob/main/chaoter18.ipynb\" target=\"_parent\"><img src=\"https://colab.research.google.com/assets/colab-badge.svg\" alt=\"Open In Colab\"/></a>"
      ]
    },
    {
      "cell_type": "markdown",
      "source": [
        "# 클래스\n",
        "\n",
        "객체에 해당하는 것들  \n",
        "-게임 캐릭터 (궁수, 성직자 등등)  \n",
        "-집, 나무, 자동자  \n",
        "-네이버 홈페이지의 버튼들  "
      ],
      "metadata": {
        "id": "4ntgFlRJy3N6"
      }
    },
    {
      "cell_type": "code",
      "source": [
        "class 클래스 이름:\n",
        "    def 메서드(self):\n",
        "        코드"
      ],
      "metadata": {
        "id": "rWWsA-jezOEt"
      },
      "execution_count": null,
      "outputs": []
    },
    {
      "cell_type": "code",
      "source": [
        "class Person:\n",
        "    def hello(self):\n",
        "        print('수강생 여러분')\n",
        "\n",
        "호출 = Person()  #인스턴스\n",
        "호출.hello()    #index() , count()"
      ],
      "metadata": {
        "colab": {
          "base_uri": "https://localhost:8080/"
        },
        "id": "T6z8AmL4zn3Z",
        "outputId": "9564b1fe-7818-4a5f-dd11-72bcfd6b0719"
      },
      "execution_count": null,
      "outputs": [
        {
          "output_type": "stream",
          "name": "stdout",
          "text": [
            "수강생 여러분\n"
          ]
        }
      ]
    },
    {
      "cell_type": "code",
      "source": [
        "a = int(10) #a 인스턴스\n",
        "print(a)\n",
        "\n",
        "b = list(range(10)) # b 인스턴스\n",
        "print(b)\n",
        "\n",
        "# 인스턴스와 객체의 차이 ? 사실 인스턴스와 객체는 같다\n",
        "# 하지만 어디에 사용하느냐에 따라 다름\n",
        "# 인스턴스 = 클래스에 사용할때 ,객체 = 객체 그자체를 언급할떄"
      ],
      "metadata": {
        "colab": {
          "base_uri": "https://localhost:8080/"
        },
        "id": "nVUpG-hv0g28",
        "outputId": "a212c375-9f28-41b1-c8ed-a586e4cff54b"
      },
      "execution_count": null,
      "outputs": [
        {
          "output_type": "stream",
          "name": "stdout",
          "text": [
            "10\n",
            "[0, 1, 2, 3, 4, 5, 6, 7, 8, 9]\n"
          ]
        }
      ]
    },
    {
      "cell_type": "code",
      "source": [
        "class 클래스이름:\n",
        "    def_init_(self):\n",
        "        self.속성 = 값"
      ],
      "metadata": {
        "colab": {
          "base_uri": "https://localhost:8080/",
          "height": 108
        },
        "id": "hf2IKPYA1HWb",
        "outputId": "227e82be-0b66-4ae7-b94f-82ee13327935"
      },
      "execution_count": null,
      "outputs": [
        {
          "output_type": "error",
          "ename": "SyntaxError",
          "evalue": "invalid syntax (ipython-input-2883754000.py, line 2)",
          "traceback": [
            "\u001b[0;36m  File \u001b[0;32m\"/tmp/ipython-input-2883754000.py\"\u001b[0;36m, line \u001b[0;32m2\u001b[0m\n\u001b[0;31m    def_init_(self):\u001b[0m\n\u001b[0m                   ^\u001b[0m\n\u001b[0;31mSyntaxError\u001b[0m\u001b[0;31m:\u001b[0m invalid syntax\n"
          ]
        }
      ]
    },
    {
      "cell_type": "code",
      "source": [
        "class person:\n",
        "    def __init__(self):\n",
        "        self.hello = \"안녕하세요\"\n",
        "\n",
        "    def greeting(self):\n",
        "        print(self.hello)\n",
        "\n",
        "호출 = person()\n",
        "호출.greeting()"
      ],
      "metadata": {
        "colab": {
          "base_uri": "https://localhost:8080/"
        },
        "id": "JG7HkXgI1hcS",
        "outputId": "3590eb2a-bff8-4391-fb68-50d0f8b6b757"
      },
      "execution_count": null,
      "outputs": [
        {
          "output_type": "stream",
          "name": "stdout",
          "text": [
            "안녕하세요\n"
          ]
        }
      ]
    },
    {
      "cell_type": "code",
      "source": [
        "# 매직매서드 지금부터 잘 알아두면 좋음\n",
        "print(dir(int))"
      ],
      "metadata": {
        "colab": {
          "base_uri": "https://localhost:8080/"
        },
        "id": "cD0iKRjf2R7w",
        "outputId": "2ec76f98-6d50-4e57-b0cf-9036f90ca060"
      },
      "execution_count": null,
      "outputs": [
        {
          "output_type": "stream",
          "name": "stdout",
          "text": [
            "['__abs__', '__add__', '__and__', '__bool__', '__ceil__', '__class__', '__delattr__', '__dir__', '__divmod__', '__doc__', '__eq__', '__float__', '__floor__', '__floordiv__', '__format__', '__ge__', '__getattribute__', '__getnewargs__', '__getstate__', '__gt__', '__hash__', '__index__', '__init__', '__init_subclass__', '__int__', '__invert__', '__le__', '__lshift__', '__lt__', '__mod__', '__mul__', '__ne__', '__neg__', '__new__', '__or__', '__pos__', '__pow__', '__radd__', '__rand__', '__rdivmod__', '__reduce__', '__reduce_ex__', '__repr__', '__rfloordiv__', '__rlshift__', '__rmod__', '__rmul__', '__ror__', '__round__', '__rpow__', '__rrshift__', '__rshift__', '__rsub__', '__rtruediv__', '__rxor__', '__setattr__', '__sizeof__', '__str__', '__sub__', '__subclasshook__', '__truediv__', '__trunc__', '__xor__', 'as_integer_ratio', 'bit_count', 'bit_length', 'conjugate', 'denominator', 'from_bytes', 'imag', 'is_integer', 'numerator', 'real', 'to_bytes']\n"
          ]
        }
      ]
    },
    {
      "cell_type": "code",
      "source": [
        "# self는 인스턴스 자기 자신을 의미합니다.\n",
        "# 여기서 __init__의 매개변수 self에 들어가는 값은\n",
        "# Person() 이라고 할수있음"
      ],
      "metadata": {
        "id": "s8REz1z927vV"
      },
      "execution_count": null,
      "outputs": []
    },
    {
      "cell_type": "code",
      "source": [
        "class 클래스이름:\n",
        "    def__init__(self, 매개변수1, 매개변수2):\n",
        "        self.속성1 = 매개변수1\n",
        "        self.속성2 = 매개변수2"
      ],
      "metadata": {
        "id": "dh8VM_MF3P1s"
      },
      "execution_count": null,
      "outputs": []
    },
    {
      "cell_type": "code",
      "source": [
        "class person:\n",
        "    def __init__(self, name, age, address):\n",
        "        self.name = name\n",
        "        self.age = age\n",
        "        self.address = address\n",
        "        self.hello = \"안녕하세요\"\n",
        "\n",
        "    def greeting(self):\n",
        "        print('{0} 저는 {1}입니다.'.format(self.hello, self.name))\n",
        "\n",
        "\n",
        "maria = person('마리아', 20, '서울시 서초구 반포동')\n",
        "maria.greeting()\n",
        "\n",
        "print('이름:', maria.name)          # 마리아\n",
        "print('나이:', maria.age)           # 20\n",
        "print('주소:', maria.address)       # 서울시 서초구 반포동"
      ],
      "metadata": {
        "colab": {
          "base_uri": "https://localhost:8080/"
        },
        "id": "ukfr19Es3mUs",
        "outputId": "26525beb-9515-457d-ddf2-57e414a023c5"
      },
      "execution_count": null,
      "outputs": [
        {
          "output_type": "stream",
          "name": "stdout",
          "text": [
            "안녕하세요 저는 마리아입니다.\n",
            "이름: 마리아\n",
            "나이: 20\n",
            "주소: 서울시 서초구 반포동\n"
          ]
        }
      ]
    },
    {
      "cell_type": "code",
      "source": [
        "class Car:\n",
        "    maxspeed = 300\n",
        "    maxpeople = 5\n",
        "    def move(self, x):\n",
        "        print(f\"{x} 스피드로 달리고 있습니다.\")\n",
        "    def stop(self):\n",
        "        print(\"멈췄습니다.\")\n",
        "\n",
        "class HybridCar(Car):\n",
        "    bettery = 1000\n",
        "    betteryKM = 300\n",
        "\n",
        "class ElectricCar(Car):\n",
        "    bettery = 1000\n",
        "    betteryKM = 300\n",
        "    def move(self, x):\n",
        "        print(f\"{self.betteryKM} 만큼 달릴 수 있습니다.\")\n",
        "        print(f\"{x} 스피드로 달리고 있습니다.\")\n",
        "\n",
        "k5 = HybridCar()\n",
        "\n",
        "ElectricCarK5 = ElectricCar()\n",
        "print(ElectricCarK5.maxspeed)\n",
        "print(ElectricCarK5.bettery)\n",
        "ElectricCarK5.move(10)"
      ],
      "metadata": {
        "colab": {
          "base_uri": "https://localhost:8080/"
        },
        "id": "ciWGDhrH95Ik",
        "outputId": "5c2cabf6-1737-447a-ac9b-af58c136ced6"
      },
      "execution_count": null,
      "outputs": [
        {
          "output_type": "stream",
          "name": "stdout",
          "text": [
            "300\n",
            "1000\n",
            "300 만큼 달릴 수 있습니다.\n",
            "10 스피드로 달리고 있습니다.\n"
          ]
        }
      ]
    }
  ]
}
