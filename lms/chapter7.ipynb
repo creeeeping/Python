{
  "nbformat": 4,
  "nbformat_minor": 0,
  "metadata": {
    "colab": {
      "provenance": [],
      "authorship_tag": "ABX9TyPjPnWH7Ye+qO11fk28eNtA",
      "include_colab_link": true
    },
    "kernelspec": {
      "name": "python3",
      "display_name": "Python 3"
    },
    "language_info": {
      "name": "python"
    }
  },
  "cells": [
    {
      "cell_type": "markdown",
      "metadata": {
        "id": "view-in-github",
        "colab_type": "text"
      },
      "source": [
        "<a href=\"https://colab.research.google.com/github/creeeeping/Python/blob/main/chapter7.ipynb\" target=\"_parent\"><img src=\"https://colab.research.google.com/assets/colab-badge.svg\" alt=\"Open In Colab\"/></a>"
      ]
    },
    {
      "cell_type": "markdown",
      "source": [
        "###자료형 종류  \n",
        "int(integer) : 정수형    \n",
        "float(float) : 실수   \n",
        "str(string) : 문자   \n",
        "bool(boolean) : 참 또는 거짓 ,true 또는 false , 1 또는 0   \n",
        "\n",
        "\n",
        "---\n",
        "list   \n",
        "tuple   \n",
        "dict   \n",
        "set"
      ],
      "metadata": {
        "id": "mppFlzTHaoKe"
      }
    },
    {
      "cell_type": "code",
      "source": [
        "이름 = '김백구'\n",
        "나이 = 38\n",
        "키 = 163\n",
        "소속 = '오뚀단'"
      ],
      "metadata": {
        "id": "naHEdqL_b_ne"
      },
      "execution_count": null,
      "outputs": []
    },
    {
      "cell_type": "code",
      "source": [
        "print(type(이름))\n",
        "print(type(나이))\n",
        "print(type(키))\n",
        "print(type(소속))"
      ],
      "metadata": {
        "colab": {
          "base_uri": "https://localhost:8080/"
        },
        "id": "pZA_3HNCcNO7",
        "outputId": "ba5adac7-7d88-42c5-a311-a66acd29d456"
      },
      "execution_count": null,
      "outputs": [
        {
          "output_type": "stream",
          "name": "stdout",
          "text": [
            "<class 'str'>\n",
            "<class 'int'>\n",
            "<class 'int'>\n",
            "<class 'str'>\n"
          ]
        }
      ]
    },
    {
      "cell_type": "code",
      "source": [
        "print(float(5))\n",
        "print(int(5.0))\n",
        "print(type(\"5\"), type(\"5.0\"))"
      ],
      "metadata": {
        "colab": {
          "base_uri": "https://localhost:8080/"
        },
        "id": "MlyBFGzxci8T",
        "outputId": "3de24219-8b54-45a6-fce3-9c808952931a"
      },
      "execution_count": null,
      "outputs": [
        {
          "output_type": "stream",
          "name": "stdout",
          "text": [
            "5.0\n",
            "5\n",
            "<class 'str'> <class 'str'>\n"
          ]
        }
      ]
    },
    {
      "cell_type": "markdown",
      "source": [
        "str : 문자열   \n",
        "특징 : 시퀀스 자료형   \n",
        "시퀀스란? 요소들이 연속적으로 이어진 자료셩  \n",
        "값 하나하나를 요소라고 합니다."
      ],
      "metadata": {
        "id": "uMUX0NLsjoS4"
      }
    },
    {
      "cell_type": "code",
      "source": [
        "# 0 인덱스\n",
        "print(소속)\n",
        "print(소속[0])\n",
        "print(소속[1])\n",
        "print(소속[2])"
      ],
      "metadata": {
        "colab": {
          "base_uri": "https://localhost:8080/"
        },
        "id": "Yuhrw4I7j4pY",
        "outputId": "2d6e0671-38d7-40e9-aaad-9cd8067e1f5e"
      },
      "execution_count": null,
      "outputs": [
        {
          "output_type": "stream",
          "name": "stdout",
          "text": [
            "오뚀단\n",
            "오\n",
            "뚀\n",
            "단\n"
          ]
        }
      ]
    },
    {
      "cell_type": "code",
      "source": [
        "\"뚀\" in 소속\n",
        "\"뀨\" in 소속"
      ],
      "metadata": {
        "colab": {
          "base_uri": "https://localhost:8080/"
        },
        "id": "wE9MceRbmhJ8",
        "outputId": "47d9aae6-ff28-44de-ecca-47eaf4884364"
      },
      "execution_count": null,
      "outputs": [
        {
          "output_type": "execute_result",
          "data": {
            "text/plain": [
              "False"
            ]
          },
          "metadata": {},
          "execution_count": 15
        }
      ]
    },
    {
      "cell_type": "code",
      "source": [
        "# 문자열 즉 시퀀스 끼리 합치기\n",
        "\n",
        "\"13\" + \"금요일\""
      ],
      "metadata": {
        "colab": {
          "base_uri": "https://localhost:8080/",
          "height": 36
        },
        "id": "okCcnqd-m1lO",
        "outputId": "b4503832-3e61-4d36-c8b7-34bc78f9db5f"
      },
      "execution_count": null,
      "outputs": [
        {
          "output_type": "execute_result",
          "data": {
            "text/plain": [
              "'13금요일'"
            ],
            "application/vnd.google.colaboratory.intrinsic+json": {
              "type": "string"
            }
          },
          "metadata": {},
          "execution_count": 21
        }
      ]
    },
    {
      "cell_type": "code",
      "source": [
        "# 복사가 가능합니다.\n",
        "옛날게임 = \"바니바니 당근당근\" * 2\n",
        "print(옛날게임)\n",
        "len(옛날게임)"
      ],
      "metadata": {
        "colab": {
          "base_uri": "https://localhost:8080/"
        },
        "id": "0NnkrK2rnJKD",
        "outputId": "0c30026f-bbe9-4919-a931-205ec67af126"
      },
      "execution_count": null,
      "outputs": [
        {
          "output_type": "stream",
          "name": "stdout",
          "text": [
            "바니바니 당근당근바니바니 당근당근\n"
          ]
        },
        {
          "output_type": "execute_result",
          "data": {
            "text/plain": [
              "18"
            ]
          },
          "metadata": {},
          "execution_count": 24
        }
      ]
    },
    {
      "cell_type": "code",
      "source": [
        "퀴즈 = \"차 4대가 고장나면? 카포에라\"\n",
        "print(퀴즈[12:16])\n",
        "print(퀴즈[12:15])"
      ],
      "metadata": {
        "colab": {
          "base_uri": "https://localhost:8080/"
        },
        "id": "pZkFe7nEnmNp",
        "outputId": "765989f8-20ec-43a9-995d-07dc7c661285"
      },
      "execution_count": null,
      "outputs": [
        {
          "output_type": "stream",
          "name": "stdout",
          "text": [
            "카포에라\n",
            "카포에\n"
          ]
        }
      ]
    },
    {
      "cell_type": "code",
      "source": [
        "#퀴즈[15] 와 같음\n",
        "퀴즈[-1]"
      ],
      "metadata": {
        "colab": {
          "base_uri": "https://localhost:8080/",
          "height": 36
        },
        "id": "GBzoGGZLoM8B",
        "outputId": "76755559-c954-46fc-8069-8cb08e3b4960"
      },
      "execution_count": null,
      "outputs": [
        {
          "output_type": "execute_result",
          "data": {
            "text/plain": [
              "'라'"
            ],
            "application/vnd.google.colaboratory.intrinsic+json": {
              "type": "string"
            }
          },
          "metadata": {},
          "execution_count": 28
        }
      ]
    },
    {
      "cell_type": "code",
      "source": [
        "#뺴먹은게 없는지 한번더 확인\n",
        "생년월일 = \"2000.12.25\"\n",
        "년 = 생년월일[0:4]\n",
        "월 = 생년월일[5:7]\n",
        "일 = 생년월일[8:11]\n",
        "print(f'{년}. {월}. {일}')"
      ],
      "metadata": {
        "colab": {
          "base_uri": "https://localhost:8080/"
        },
        "id": "bRq_0RTmoUFd",
        "outputId": "8767cff0-e3e5-4812-d103-c10ad83ede45"
      },
      "execution_count": null,
      "outputs": [
        {
          "output_type": "stream",
          "name": "stdout",
          "text": [
            "2000. 12. 25\n"
          ]
        }
      ]
    },
    {
      "cell_type": "code",
      "source": [
        "숫자 = \"2389482374892348782938\"\n",
        "#전체 출력\n",
        "print(숫자[::])\n",
        "\n",
        "#전체출력 거꾸로\n",
        "print(숫자[::-1])\n",
        "\n",
        "#첫번째 인덱스 기준으로 2칸씩 띄어쓰기 출력하기\n",
        "print(숫자[::2])\n"
      ],
      "metadata": {
        "colab": {
          "base_uri": "https://localhost:8080/"
        },
        "id": "-O9nRd7fpcqN",
        "outputId": "3d42852f-8fd5-4e1a-e376-d61733a5caa5"
      },
      "execution_count": null,
      "outputs": [
        {
          "output_type": "stream",
          "name": "stdout",
          "text": [
            "2389482374892348782938\n",
            "8392878432984732849832\n",
            "28427824723\n"
          ]
        }
      ]
    },
    {
      "cell_type": "code",
      "source": [
        "퀴즈 = \"스님이 공중에 뜬다를 6글자로 말하면? 어중이떠중이\"\n",
        "print(퀴즈[22:28])"
      ],
      "metadata": {
        "colab": {
          "base_uri": "https://localhost:8080/"
        },
        "id": "S92xW4oXqQKp",
        "outputId": "58c4c6e8-e8a1-4920-9383-5128897079d3"
      },
      "execution_count": null,
      "outputs": [
        {
          "output_type": "stream",
          "name": "stdout",
          "text": [
            "어중이떠중이\n"
          ]
        }
      ]
    },
    {
      "cell_type": "code",
      "source": [
        "과일 = \"apple\"\n",
        "과일.count(\"p\")"
      ],
      "metadata": {
        "colab": {
          "base_uri": "https://localhost:8080/"
        },
        "id": "UVWdJjy2q5hT",
        "outputId": "e0ee94f9-e83c-4b32-a5c0-639d20cb8478"
      },
      "execution_count": null,
      "outputs": [
        {
          "output_type": "execute_result",
          "data": {
            "text/plain": [
              "2"
            ]
          },
          "metadata": {},
          "execution_count": 52
        }
      ]
    },
    {
      "cell_type": "code",
      "source": [
        "과일[2]\n",
        "과일.index(\"p\")"
      ],
      "metadata": {
        "colab": {
          "base_uri": "https://localhost:8080/"
        },
        "id": "XVp4YqLurGNa",
        "outputId": "9a061414-b160-4014-e2ce-937d4c4a1f1b"
      },
      "execution_count": null,
      "outputs": [
        {
          "output_type": "execute_result",
          "data": {
            "text/plain": [
              "1"
            ]
          },
          "metadata": {},
          "execution_count": 53
        }
      ]
    },
    {
      "cell_type": "code",
      "source": [
        "# 예시문제 만들어보기\n",
        "라라랜드 = \"사람들은 다른 사람들의 열정에 끌리게 되어있어 자인이 잊은 걸 상기시켜 주니까\"\n"
      ],
      "metadata": {
        "id": "9L-rHfn8rPOg"
      },
      "execution_count": null,
      "outputs": []
    }
  ]
}
