{
  "nbformat": 4,
  "nbformat_minor": 0,
  "metadata": {
    "colab": {
      "provenance": [],
      "authorship_tag": "ABX9TyOzpMl+J6XPnNveIpQ3gx6Z",
      "include_colab_link": true
    },
    "kernelspec": {
      "name": "python3",
      "display_name": "Python 3"
    },
    "language_info": {
      "name": "python"
    }
  },
  "cells": [
    {
      "cell_type": "markdown",
      "metadata": {
        "id": "view-in-github",
        "colab_type": "text"
      },
      "source": [
        "<a href=\"https://colab.research.google.com/github/creeeeping/Python/blob/main/chapter19.ipynb\" target=\"_parent\"><img src=\"https://colab.research.google.com/assets/colab-badge.svg\" alt=\"Open In Colab\"/></a>"
      ]
    },
    {
      "cell_type": "code",
      "execution_count": null,
      "metadata": {
        "colab": {
          "base_uri": "https://localhost:8080/"
        },
        "id": "FKivgZ8Ai1C9",
        "outputId": "1921851b-db10-434c-d5ed-70e2e0aae736"
      },
      "outputs": [
        {
          "output_type": "stream",
          "name": "stdout",
          "text": [
            "나눌 숫자를 입력하세요3\n",
            "3.3333333333333335\n"
          ]
        }
      ],
      "source": [
        "# 예외코드 작성\n",
        "try:\n",
        "    x = int(input('나눌 숫자를 입력하세요'))\n",
        "    y = 10 / x\n",
        "    print(y)\n",
        "except:\n",
        "    print('예외가 발생했습니다.')"
      ]
    },
    {
      "cell_type": "code",
      "source": [
        "y = [10, 20, 30]\n",
        "try:\n",
        "    index, x = map(int, input('인덱스와 나눌 숫자를 입력하세요').split('.'))\n",
        "    print(y[index]/x)\n",
        "except ZeroDivisionError:\n",
        "    print('숫자를 0으로 나눌 수 없습니다.')\n",
        "except:\n",
        "    print('잘못된 인덱스입니다.')"
      ],
      "metadata": {
        "id": "PfqGYHEblLx6"
      },
      "execution_count": null,
      "outputs": []
    },
    {
      "cell_type": "code",
      "source": [
        "try:\n",
        "    x = int(input('나눌 숫자를 입력하세요'))\n",
        "    y = 10 / x\n",
        "    # raise 억지로 에러를 만드는 코드\n",
        "    print(y)\n",
        "except:\n",
        "    print('예외가 발생했습니다.')\n",
        "else:\n",
        "    print(y, \"성공하였습니다\")\n",
        "finally:\n",
        "    print(\"코드 실행이 종료되었습니다.\") # 무조건 실행 에러가 발생해도 실행\n"
      ],
      "metadata": {
        "colab": {
          "base_uri": "https://localhost:8080/"
        },
        "id": "dMeL1mgEla1x",
        "outputId": "f080a7a6-51fd-4a5e-aa91-e573691851ed"
      },
      "execution_count": null,
      "outputs": [
        {
          "output_type": "stream",
          "name": "stdout",
          "text": [
            "나눌 숫자를 입력하세요3\n",
            "3.3333333333333335\n",
            "3.3333333333333335 성공하였습니다\n",
            "코드 실행이 종료되었습니다.\n"
          ]
        }
      ]
    }
  ]
}
