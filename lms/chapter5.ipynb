{
  "nbformat": 4,
  "nbformat_minor": 0,
  "metadata": {
    "colab": {
      "provenance": [],
      "authorship_tag": "ABX9TyMEVml4KlPY5GyCGdJNUNrG",
      "include_colab_link": true
    },
    "kernelspec": {
      "name": "python3",
      "display_name": "Python 3"
    },
    "language_info": {
      "name": "python"
    }
  },
  "cells": [
    {
      "cell_type": "markdown",
      "metadata": {
        "id": "view-in-github",
        "colab_type": "text"
      },
      "source": [
        "<a href=\"https://colab.research.google.com/github/creeeeping/Python/blob/main/chapter5.ipynb\" target=\"_parent\"><img src=\"https://colab.research.google.com/assets/colab-badge.svg\" alt=\"Open In Colab\"/></a>"
      ]
    },
    {
      "cell_type": "markdown",
      "source": [
        "사칙연산\n",
        "\n",
        "더하기 : +\n",
        "\n",
        "뺴기 : -\n",
        "\n",
        "곱하기 : *\n",
        "\n",
        "나누기 :\n",
        "\n",
        "\n",
        "*   / : 우리가 알고있는 나누기와 동일한 기능 (예 5/2 = 2.5)\n",
        "\n",
        "*   // : 몫을 반환 (예 5//2 = 2)\n",
        "\n",
        "*   % : 나머지를 반환 (예 5%2 = 1)\n",
        "\n",
        "\n",
        "\n",
        "거듭제곱 : **\n",
        "\n",
        "내장함수 : divmod\n",
        "\n",
        "> 내장함수 : 자주 사용하는 기능을 미리 만들어 놓은것을 내장함수라고 함.\n",
        "\n",
        "**divmod** : 몫과 나머지를 동시에 구해줌"
      ],
      "metadata": {
        "id": "6Q7yovsHhdDy"
      }
    },
    {
      "cell_type": "code",
      "execution_count": null,
      "metadata": {
        "colab": {
          "base_uri": "https://localhost:8080/"
        },
        "id": "PZJ0iv-Uf6pQ",
        "outputId": "469a81eb-9a45-4003-d419-d98fba9e2672"
      },
      "outputs": [
        {
          "output_type": "execute_result",
          "data": {
            "text/plain": [
              "(1, 1)"
            ]
          },
          "metadata": {},
          "execution_count": 1
        }
      ],
      "source": [
        "divmod(3, 2)"
      ]
    },
    {
      "cell_type": "markdown",
      "source": [
        "## 괄호\n",
        "\n",
        "수학에서 사용되는 괄호와 동일한 기능\n",
        "\n",
        "(   ) : 괄호안에 있는 것을 먼저 계산\n",
        "\n",
        "사칙연산 순서 : 괄호 -> 곱셈 , 나눗셈 -> 덧셈 , 뺼셈"
      ],
      "metadata": {
        "id": "9JKGBp2GiWal"
      }
    },
    {
      "cell_type": "code",
      "source": [
        "# 아아 : 5000원 / 아샷추 : 6500원\n",
        "# 아아 2잔 / 아샷추 3잔\n",
        "(5000 * 2) + (6500 * 3)"
      ],
      "metadata": {
        "colab": {
          "base_uri": "https://localhost:8080/"
        },
        "id": "zZVadwJlie71",
        "outputId": "316ed184-1254-4228-81a6-fbc38e811b82"
      },
      "execution_count": null,
      "outputs": [
        {
          "output_type": "execute_result",
          "data": {
            "text/plain": [
              "29500"
            ]
          },
          "metadata": {},
          "execution_count": 2
        }
      ]
    },
    {
      "cell_type": "code",
      "source": [
        "#어제 아아 2잔이랑 아샷추 3잔 결제한 금액이 얼마였지?\n",
        "(5000 * 2) + (6500 * 3)"
      ],
      "metadata": {
        "colab": {
          "base_uri": "https://localhost:8080/"
        },
        "id": "aWzXQFZii8Xt",
        "outputId": "9ddfb312-bee4-4f4f-ed0e-ea80574db963"
      },
      "execution_count": null,
      "outputs": [
        {
          "output_type": "execute_result",
          "data": {
            "text/plain": [
              "29500"
            ]
          },
          "metadata": {},
          "execution_count": 3
        }
      ]
    },
    {
      "cell_type": "code",
      "source": [
        "# 미안한데 그때 아아 2잔이랑 아샷추 3잔 결제한 금액이 얼마였지? (부장님...)\n",
        "(5000 * 2) + (6500 * 3)"
      ],
      "metadata": {
        "colab": {
          "base_uri": "https://localhost:8080/"
        },
        "id": "MkJKQOA5c-Em",
        "outputId": "207cea69-88dc-456a-f996-0e388116dbc5"
      },
      "execution_count": null,
      "outputs": [
        {
          "output_type": "execute_result",
          "data": {
            "text/plain": [
              "29500"
            ]
          },
          "metadata": {},
          "execution_count": 1
        }
      ]
    },
    {
      "cell_type": "markdown",
      "source": [
        "계산된 결과값이 다 날아가는 문제 어떻게 해결해야 할까요?"
      ],
      "metadata": {
        "id": "WVWL7saSjIFj"
      }
    },
    {
      "cell_type": "markdown",
      "source": [
        "### 변수란? (기본중에 기본 , 근본중에 근본 , 코어중에 코어 )\n",
        "\n",
        "변수 : 하나의 값을 저장할 수 있는 공간\n",
        "\n",
        "숫자\n",
        "\n",
        "문자\n",
        "\n",
        "list\n",
        "\n",
        "dict\n",
        "\n",
        "함수\n",
        "\n",
        "하나의 변수에 하나의 값을 넣을떄\n",
        "\n",
        "변수이름 = 값\n",
        "\n",
        "두개의 변수에 하나의 값을 각각 넣을떄\n",
        "\n",
        "변수이름1 , 변수이름2 = 값1 , 값2\n"
      ],
      "metadata": {
        "id": "yxMLeGSyjQoE"
      }
    },
    {
      "cell_type": "code",
      "source": [
        "#하나의 값을 변수에 넣을 때\n",
        "num = 1\n",
        "print(num)\n",
        "\n",
        "#두개의 값을 변수에 넣을 떄\n",
        "num_1,num_2 = 1, 2\n",
        "print(num_1)\n",
        "print(num_2)\n",
        "\n",
        "print(num_1, num_2)"
      ],
      "metadata": {
        "colab": {
          "base_uri": "https://localhost:8080/"
        },
        "id": "LCCJyQnqkEDy",
        "outputId": "9c7f958d-95d3-49a3-e601-7a4328c8232e"
      },
      "execution_count": null,
      "outputs": [
        {
          "output_type": "stream",
          "name": "stdout",
          "text": [
            "1\n",
            "1\n",
            "2\n",
            "1 2\n"
          ]
        }
      ]
    },
    {
      "cell_type": "markdown",
      "source": [
        "1부터 5까지의 숫자를 더하는 문제를 풀어보겠습니다.\n",
        "단, 다음 숫자를 더하기 위해서 매번 새로운 줄에서 시작해야하는 조건이 있습니다."
      ],
      "metadata": {
        "id": "qlH-E4Q_kmu8"
      }
    },
    {
      "cell_type": "code",
      "source": [
        "# 변수를 사용하지 않을 때\n",
        "# 이전에 계산된 결과를 저장할 수 있는 방법이 없음\n",
        "1 + 2\n",
        "1 + 2 + 3\n",
        "1 + 2 + 3 + 4\n",
        "1 + 2 + 3 + 4 + 5\n"
      ],
      "metadata": {
        "colab": {
          "base_uri": "https://localhost:8080/"
        },
        "id": "Ns7Yv1-2epYO",
        "outputId": "2747feb8-8ec3-45a1-e7f5-e72f3aefc36f"
      },
      "execution_count": null,
      "outputs": [
        {
          "output_type": "execute_result",
          "data": {
            "text/plain": [
              "15"
            ]
          },
          "metadata": {},
          "execution_count": 2
        }
      ]
    },
    {
      "cell_type": "code",
      "source": [
        "# 변수를 사용할때\n",
        "# 이전에 계산된 결과를 저장해서 사용할수 있음\n",
        "sum = 1 + 2\n",
        "sum = sum + 3\n",
        "sum = sum + 4\n",
        "sum = sum + 5\n",
        "print(sum)"
      ],
      "metadata": {
        "colab": {
          "base_uri": "https://localhost:8080/"
        },
        "id": "sS76v6GVe6uL",
        "outputId": "efd29114-5c2c-4451-bf1d-b4c8b49317e2"
      },
      "execution_count": null,
      "outputs": [
        {
          "output_type": "stream",
          "name": "stdout",
          "text": [
            "15\n"
          ]
        }
      ]
    },
    {
      "cell_type": "markdown",
      "source": [
        "## 변수에 값을 넣는 것 => 할당\n",
        "\n",
        "sum = 1 + 2 => 1 + 2 의 계산된 결과를 sum 이라는 변수에 할당한다.  \n",
        "sum 변수명이도 '=' 같다는 의미가 아니라 할당(assigment)이라고 합니다.  \n",
        "'=' : 할당 연산자   \n",
        "'+' : 산술 연산자  \n",
        "+= 산술 후 바로 할당하는 문법  \n",
        "/=, -=, *= 모두 가능합니다.\n",
        "\n"
      ],
      "metadata": {
        "id": "kUlQ4jzvfdri"
      }
    },
    {
      "cell_type": "code",
      "source": [
        "# 변수를 사용하면서 사용 가능한 문법\n",
        "sum = 1 + 2\n",
        "sum = sum + 3\n",
        "sum = sum + 4\n",
        "sum = sum + 5\n",
        "\n",
        "print(sum)\n",
        "sum2 = 1 + 2\n",
        "sum2 += 3\n",
        "sum2 += 4\n",
        "sum2 += 5\n",
        "\n",
        "print(sum2)"
      ],
      "metadata": {
        "colab": {
          "base_uri": "https://localhost:8080/"
        },
        "id": "SgFR5R14gig8",
        "outputId": "2b72f830-ad5b-42fa-af24-7a6d4c850f53"
      },
      "execution_count": null,
      "outputs": [
        {
          "output_type": "stream",
          "name": "stdout",
          "text": [
            "15\n",
            "15\n"
          ]
        }
      ]
    },
    {
      "cell_type": "code",
      "source": [
        "# 주의 !! 선언되지 않은 변수를 사용할 경우 에러 발생\n",
        "sum3 = 0\n",
        "sum3 += 1\n",
        "\n",
        "sum3\n"
      ],
      "metadata": {
        "colab": {
          "base_uri": "https://localhost:8080/"
        },
        "id": "B_IzA47EjPrA",
        "outputId": "4d5bdc71-aead-47c2-e7df-b20b540e30ae"
      },
      "execution_count": null,
      "outputs": [
        {
          "output_type": "execute_result",
          "data": {
            "text/plain": [
              "1"
            ]
          },
          "metadata": {},
          "execution_count": 12
        }
      ]
    },
    {
      "cell_type": "code",
      "source": [
        "# 변수에 어떤값도 넣고 싶지도 않고 선언하는 방법\n",
        "# (대소문자 구분)\n",
        "#print에 대하여 : https://0xffffffff.tistory.com/67 , https://sylagape1231.tistory.com/42\n",
        "nothing = None\n",
        "print(None)"
      ],
      "metadata": {
        "colab": {
          "base_uri": "https://localhost:8080/"
        },
        "id": "w4ISSvuLjucq",
        "outputId": "84443307-88ae-46a6-c321-2ff85c493bce"
      },
      "execution_count": null,
      "outputs": [
        {
          "output_type": "stream",
          "name": "stdout",
          "text": [
            "None\n"
          ]
        }
      ]
    },
    {
      "cell_type": "markdown",
      "source": [
        "##변수를 만드는 규칙  \n",
        "영문 문자와 숫자를 사용할 수 있습니다.  \n",
        "대소문자를 구분합니다.  \n",
        "첫글자는 대문자로 쓰는걸 지향합니다.  \n",
        "문자부터 시작해야 하며 숫자부터 시작하면 안 됩니다.  \n",
        "_(밑줄 문자)로 시작할 수 있습니다.  \n",
        "특수 문자( + , - , / , $ , @ , & , % )는 사용할 수 없습니다.  \n",
        "파이썬의 키워드(if , for , while , and , or 등)는 사용할 수 없습니다."
      ],
      "metadata": {
        "id": "SG_-xDWZpteK"
      }
    },
    {
      "cell_type": "code",
      "source": [
        "#대소문자를 구분하는 변수\n",
        "BIG = '크다'\n",
        "big = '작다'\n",
        "\n",
        "print(BIG , big)"
      ],
      "metadata": {
        "colab": {
          "base_uri": "https://localhost:8080/"
        },
        "id": "5LtgcTEax0v_",
        "outputId": "0b4ed841-dc1a-4d7e-fd4a-6b6fca9de0e5"
      },
      "execution_count": null,
      "outputs": [
        {
          "output_type": "stream",
          "name": "stdout",
          "text": [
            "크다 작다\n"
          ]
        }
      ]
    },
    {
      "cell_type": "markdown",
      "source": [
        "스네이크 케이스 (snake case).\n",
        "변수명 : snake_case\n",
        "\n",
        "카멜케이스 (camel case).\n",
        "변수명 : camel|Case\n"
      ],
      "metadata": {
        "id": "SklxHdkJyaf0"
      }
    },
    {
      "cell_type": "code",
      "source": [
        "# 우리는 변수를 만들때 스네이크케이스로 진행합니다. 그리고 언더바는 2개를 적용시켜주세요\n",
        "# 개발에 관련된 여러 조건을 명시하는 것들을 코드 컨벤션이라고 합니다.\n",
        "\n",
        "box__shose = '스니커즈'\n",
        "box__hat = '슈프림 모자'\n",
        "\n",
        "print(box__shose)\n",
        "print(box__hat)"
      ],
      "metadata": {
        "colab": {
          "base_uri": "https://localhost:8080/"
        },
        "id": "jyN0g3CLy2-j",
        "outputId": "0f9b8758-b489-4e4e-c552-f69dda7d5cdf"
      },
      "execution_count": null,
      "outputs": [
        {
          "output_type": "stream",
          "name": "stdout",
          "text": [
            "스니커즈\n",
            "슈프림 모자\n"
          ]
        }
      ]
    },
    {
      "cell_type": "code",
      "source": [
        "#print() 포메팅 3가지 f-string : print(f'{변수명}')\n",
        "me = '김백구'\n",
        "print(f'{me}만 빼고 고양이 다 있어')"
      ],
      "metadata": {
        "colab": {
          "base_uri": "https://localhost:8080/"
        },
        "id": "xTM0AazDznGR",
        "outputId": "2376bb62-bec0-4950-af30-7806755adc7b"
      },
      "execution_count": null,
      "outputs": [
        {
          "output_type": "stream",
          "name": "stdout",
          "text": [
            "김백구만 빼고 고양이 다 있어\n"
          ]
        }
      ]
    },
    {
      "cell_type": "code",
      "source": [
        "# 붕어빵 철이 돌아왔죠\n",
        "# 붕어빵 (팥) : 2000원, 붕어빵 (슈크림) :2500원, 붕어빵 (잡채) :3000원\n",
        "# 무인 주문기계를 만들어주세요\n",
        "# 붕어빵(잡채) 3개, 붕어빵(슈크림) 2개를 주문하면\n",
        "# \"주문이 완료되었습니다. 붕어빵(슈크림) 2개, 붕어빵(잡채) 3개 총 5개 금액은  140000원 입니다\"\n",
        "# 이 출력되게 코드를 작성해주세요\n",
        "# 변수를 만들때 스네이크 케이스에 언더바는 2개 / print()문의 포메팅 f-string\n",
        "\n",
        "fish__p, fish__s, fish__j = \"붕어빵 (팥)\", \"붕어빵 (슈크림)\", \"붕어빵 (잡채)\"\n",
        "fish_p_sell, fish_s_sell, fish_j_sell = 2000, 2500, 3000\n",
        "\n",
        "order_s, order_j = 2, 3  # 주문 개수\n",
        "\n",
        "# 붕어빵 계산값\n",
        "order_s__pay = fish_s_sell * order_s\n",
        "order_j__pay = fish_j_sell * order_j\n",
        "total = order_s + order_j\n",
        "total_pay = order_s__pay + order_j__pay\n",
        "\n",
        "# 출력\n",
        "print(f\"주문이 완료되었습니다. {fish__s} {order_s}개, {fish__j} {order_j}개 총 {total}개. 결제 금액은 {total_pay}원입니다.\")\n",
        "\n"
      ],
      "metadata": {
        "colab": {
          "base_uri": "https://localhost:8080/"
        },
        "id": "vWrdJTuXkI8q",
        "outputId": "3f0674e6-0cb8-4ca6-edd5-543f70674a05"
      },
      "execution_count": null,
      "outputs": [
        {
          "output_type": "stream",
          "name": "stdout",
          "text": [
            "주문이 완료되었습니다. 붕어빵 (슈크림) 2개, 붕어빵 (잡채) 3개 총 5개. 결제 금액은 14000원입니다.\n"
          ]
        }
      ]
    },
    {
      "cell_type": "code",
      "source": [
        "_"
      ],
      "metadata": {
        "id": "ZijsczfopMQN"
      },
      "execution_count": null,
      "outputs": []
    }
  ]
}
