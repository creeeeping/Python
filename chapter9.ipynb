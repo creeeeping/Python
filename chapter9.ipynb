{
  "nbformat": 4,
  "nbformat_minor": 0,
  "metadata": {
    "colab": {
      "provenance": [],
      "authorship_tag": "ABX9TyPC4wndn05trzBalyBWHPUz",
      "include_colab_link": true
    },
    "kernelspec": {
      "name": "python3",
      "display_name": "Python 3"
    },
    "language_info": {
      "name": "python"
    }
  },
  "cells": [
    {
      "cell_type": "markdown",
      "metadata": {
        "id": "view-in-github",
        "colab_type": "text"
      },
      "source": [
        "<a href=\"https://colab.research.google.com/github/creeeeping/Python/blob/main/chapter9.ipynb\" target=\"_parent\"><img src=\"https://colab.research.google.com/assets/colab-badge.svg\" alt=\"Open In Colab\"/></a>"
      ]
    },
    {
      "cell_type": "markdown",
      "source": [
        "##입력과 출력\n",
        "\n",
        "*   입력 : input()\n",
        "*   출력 : print()\n",
        "\n",
        "###함수와 메서드\n",
        "\n",
        " 함수 : 어디에 속해있지 않고 단독 모듈이라 함수를 그냥 호출하여 사용이 가능합니다.  \n",
        "  예) print() , input()\n",
        "  https://docs.python.org/ko/3/library/functions.html\n",
        "\n",
        "  메소드 : 함수의 클래스 안에 속해 있고 클래스의 멤버 변수들을 이용해서 구현된 것  \n",
        "  예) \"까먹으신건가요?\".count(\"까\") / \"까먹으신건가요?\".index(\"까\")\n"
      ],
      "metadata": {
        "id": "AVMuPD412zmv"
      }
    },
    {
      "cell_type": "code",
      "source": [
        "\"까먹으신건가요?\".count(\"까\")"
      ],
      "metadata": {
        "colab": {
          "base_uri": "https://localhost:8080/"
        },
        "id": "FtNL7wbG4fQy",
        "outputId": "c9ca033e-d816-4da0-b6b0-9732ad596923"
      },
      "execution_count": null,
      "outputs": [
        {
          "output_type": "execute_result",
          "data": {
            "text/plain": [
              "1"
            ]
          },
          "metadata": {},
          "execution_count": 1
        }
      ]
    },
    {
      "cell_type": "code",
      "source": [
        " \"까먹으신건가요?\".index(\"까\")"
      ],
      "metadata": {
        "colab": {
          "base_uri": "https://localhost:8080/"
        },
        "id": "f_csUL834oH1",
        "outputId": "9fc32b85-dc1f-4481-ac25-f7b1fde7b94f"
      },
      "execution_count": null,
      "outputs": [
        {
          "output_type": "execute_result",
          "data": {
            "text/plain": [
              "0"
            ]
          },
          "metadata": {},
          "execution_count": 4
        }
      ]
    },
    {
      "cell_type": "code",
      "source": [
        "숫자 = 5\n",
        "문자 = \"5\"\n",
        "print(숫자, 문자)"
      ],
      "metadata": {
        "colab": {
          "base_uri": "https://localhost:8080/"
        },
        "id": "QgwjAjUo49Xq",
        "outputId": "07641859-c144-4533-c4f0-6b97418f68f1"
      },
      "execution_count": null,
      "outputs": [
        {
          "output_type": "stream",
          "name": "stdout",
          "text": [
            "5 5\n"
          ]
        }
      ]
    },
    {
      "cell_type": "code",
      "source": [
        "인사 = input(\"(겡맛조는 바보야)라고 깅뱅궁이 말했다\")\n",
        "print(type(인사))"
      ],
      "metadata": {
        "colab": {
          "base_uri": "https://localhost:8080/"
        },
        "id": "hbvPCr2E6G2E",
        "outputId": "ffe8e735-9476-43e6-dea1-0c09ee2685bc"
      },
      "execution_count": null,
      "outputs": [
        {
          "output_type": "stream",
          "name": "stdout",
          "text": [
            "(겡맛조는 바보야)라고 깅뱅궁이 말했다 낄길\n",
            "<class 'str'>\n"
          ]
        }
      ]
    },
    {
      "cell_type": "code",
      "source": [
        "# 형 변환 int() , float , str() , bool()\n",
        "\n",
        "정수 = input()\n",
        "정수 = int(정수)\n",
        "print(정수, type(정수))\n",
        "\n",
        "실수 = input()\n",
        "실수 = float(실수)\n",
        "print(실수, type(실수))"
      ],
      "metadata": {
        "colab": {
          "base_uri": "https://localhost:8080/"
        },
        "id": "x3ZHXXpY8C1J",
        "outputId": "5b696c34-bf8e-4d39-928a-c45fa1372d3b"
      },
      "execution_count": null,
      "outputs": [
        {
          "output_type": "stream",
          "name": "stdout",
          "text": [
            "5\n",
            "5 <class 'int'>\n",
            "5\n",
            "5.0 <class 'float'>\n"
          ]
        }
      ]
    },
    {
      "cell_type": "code",
      "source": [
        "정수 = int(input())\n",
        "print(정수, type(정수))\n",
        "\n",
        "실수 = float(input())\n",
        "print(실수, type(실수))"
      ],
      "metadata": {
        "colab": {
          "base_uri": "https://localhost:8080/"
        },
        "id": "LS-eG7twW0yP",
        "outputId": "4d916ef6-ea68-45bb-8724-d8c7d80b9d12"
      },
      "execution_count": null,
      "outputs": [
        {
          "output_type": "stream",
          "name": "stdout",
          "text": [
            "5\n",
            "5 <class 'int'>\n",
            "5\n",
            "5.0 <class 'float'>\n"
          ]
        }
      ]
    },
    {
      "cell_type": "markdown",
      "source": [
        "그 외 입력값의 형변환이 가능한 종류    \n",
        "*tuple()   \n",
        "*lit()   \n",
        "*dict()   \n",
        "*set()   "
      ],
      "metadata": {
        "id": "9ss3YpRGPpZL"
      }
    },
    {
      "cell_type": "code",
      "source": [
        "넌센스, 정답 = input().split(\".\")\n",
        "print(f'넌센스 퀴즈 : {넌센스}')\n",
        "print(f'정답 : {정답}')"
      ],
      "metadata": {
        "colab": {
          "base_uri": "https://localhost:8080/"
        },
        "id": "8O6xX7uiP14p",
        "outputId": "4a39c603-d69f-4a61-f218-720409c7f345"
      },
      "execution_count": null,
      "outputs": [
        {
          "output_type": "stream",
          "name": "stdout",
          "text": [
            "스페인에서 에스파를 만나면?. 에스파냐\n",
            "넌센스 퀴즈 : 스페인에서 에스파를 만나면?\n",
            "정답 :  에스파냐\n"
          ]
        }
      ]
    },
    {
      "cell_type": "code",
      "source": [
        "#시퀀스 자료형에 다 지원되는 메소드\n",
        "번호1, 번호2, 번호3, 번호4 = input().split(\".\")\n",
        "번호1 = int(번호1)\n",
        "번호2 = int(번호2)\n",
        "번호3 = int(번호3)\n",
        "번호4 = int(번호4)\n",
        "\n",
        "print(type(번호1), type(번호2), type(번호3), type(번호4))"
      ],
      "metadata": {
        "colab": {
          "base_uri": "https://localhost:8080/"
        },
        "id": "dgZu877MQkGd",
        "outputId": "981779bd-f1b9-4474-d70f-a79af19070d5"
      },
      "execution_count": null,
      "outputs": [
        {
          "output_type": "stream",
          "name": "stdout",
          "text": [
            "23212.23.232.2323\n",
            "<class 'int'> <class 'int'> <class 'int'> <class 'int'>\n"
          ]
        }
      ]
    },
    {
      "cell_type": "code",
      "source": [
        "#map()\n",
        "번호1, 번호2, 번호3, 번호4 = map(int,input().split(\".\"))\n",
        "print(type(번호1), type(번호2), type(번호3), type(번호4))"
      ],
      "metadata": {
        "colab": {
          "base_uri": "https://localhost:8080/"
        },
        "id": "LTi6s688UJ17",
        "outputId": "69443db0-91c9-42d7-eb4f-fbb7fe3a41e9"
      },
      "execution_count": null,
      "outputs": [
        {
          "output_type": "stream",
          "name": "stdout",
          "text": [
            "2323.2323.2323.2323\n",
            "<class 'int'> <class 'int'> <class 'int'> <class 'int'>\n"
          ]
        }
      ]
    },
    {
      "cell_type": "code",
      "source": [
        "#레거시 코드 : 누군가 남겨두고간 코드\n",
        "#리펙토링 : 결과의 변경없이 코드의 구조를 재조정 하는것이다.\n",
        "#input()\n",
        "\n",
        "\n",
        "# 붕어빵 종류\n",
        "fish__p, fish__s, fish__j = \"붕어빵 (팥)\", \"붕어빵 (슈크림)\", \"붕어빵 (잡채)\"\n",
        "\n",
        "# 사용자 입력 받기\n",
        "fish_p_cnt, fish_s_cnt, fish_j_cnt = map(\n",
        "    int,\n",
        "    input('붕어빵 (팥), 붕어빵 (슈크림), 붕어빵 (잡채)를 순서대로 개수를 입력하세요 (쉼표로 구분, 안 사면 0 입력): ').split(\",\")\n",
        ")\n",
        "\n",
        "# 가격\n",
        "fish_p_sell, fish_s_sell, fish_j_sell = 2000, 2500, 3000\n",
        "\n",
        "# 붕어빵 계산값\n",
        "pay_p = fish_p_sell * fish_p_cnt\n",
        "pay_s = fish_s_sell * fish_s_cnt\n",
        "pay_j = fish_j_sell * fish_j_cnt\n",
        "\n",
        "total_cnt = fish_p_cnt + fish_s_cnt + fish_j_cnt\n",
        "total_pay = pay_p + pay_s + pay_j\n",
        "\n",
        "# 출력\n",
        "print(f\"주문이 완료되었습니다!\")\n",
        "print(f\"{fish__p} {fish_p_cnt}개, {fish__s} {fish_s_cnt}개, {fish__j} {fish_j_cnt}개 총 {total_cnt}개.\")\n",
        "print(f\"결제 금액은 {total_pay:,}원입니다.\")\n",
        "\n"
      ],
      "metadata": {
        "colab": {
          "base_uri": "https://localhost:8080/"
        },
        "id": "HBjHl3MPUyMA",
        "outputId": "da7e6184-3f4f-4e59-e27c-6f5e144dcc4e"
      },
      "execution_count": null,
      "outputs": [
        {
          "output_type": "stream",
          "name": "stdout",
          "text": [
            "붕어빵 (팥), 붕어빵 (슈크림), 붕어빵 (잡채)를 순서대로 개수를 입력하세요 (쉼표로 구분, 안 사면 0 입력): 0 , 2 , 3\n",
            "주문이 완료되었습니다!\n",
            "붕어빵 (팥) 0개, 붕어빵 (슈크림) 2개, 붕어빵 (잡채) 3개 총 5개.\n",
            "결제 금액은 14,000원입니다.\n"
          ]
        }
      ]
    },
    {
      "cell_type": "code",
      "source": [
        "#print() 함수에 기능을 이용해보겠습니다.\n",
        "\n",
        "print('초코칩' ,'민트' ,'샷추가' ,'휘핑크림')\n",
        "print('초코칩' ,'민트' ,'샷추가' ,'휘핑크림', sep = '/')\n",
        "print('초코칩' ,'민트' ,'샷추가' ,'휘핑크림', sep = ':')\n",
        "print('초코칩' ,'민트' ,'샷추가' ,'휘핑크림', sep = '    ')\n",
        "print('초코칩' ,'민트' ,'샷추가' ,'휘핑크림', sep = '\\n')"
      ],
      "metadata": {
        "colab": {
          "base_uri": "https://localhost:8080/"
        },
        "id": "_K8jFNHIXt_N",
        "outputId": "8023669f-2560-4c97-ff2d-223caed04049"
      },
      "execution_count": null,
      "outputs": [
        {
          "output_type": "stream",
          "name": "stdout",
          "text": [
            "초코칩 민트 샷추가 휘핑크림\n",
            "초코칩/민트/샷추가/휘핑크림\n",
            "초코칩:민트:샷추가:휘핑크림\n",
            "초코칩    민트    샷추가    휘핑크림\n",
            "초코칩\n",
            "민트\n",
            "샷추가\n",
            "휘핑크림\n"
          ]
        }
      ]
    },
    {
      "cell_type": "code",
      "source": [
        "#end\n",
        "\n",
        "print('초코칩' ,'민트' ,'샷추가' ,'휘핑크림', end = ' ')\n",
        "print('초코칩' ,'민트' ,'샷추가' ,'휘핑크림', end = ' ')\n",
        "print('초코칩' ,'민트' ,'샷추가' ,'휘핑크림', end = ' ')"
      ],
      "metadata": {
        "colab": {
          "base_uri": "https://localhost:8080/"
        },
        "id": "zvkDNiQzaMM9",
        "outputId": "0d904516-ceb4-4e35-b1ab-10ecd52e4a6f"
      },
      "execution_count": null,
      "outputs": [
        {
          "output_type": "stream",
          "name": "stdout",
          "text": [
            "초코칩 민트 샷추가 휘핑크림 초코칩 민트 샷추가 휘핑크림 초코칩 민트 샷추가 휘핑크림 "
          ]
        }
      ]
    }
  ]
}